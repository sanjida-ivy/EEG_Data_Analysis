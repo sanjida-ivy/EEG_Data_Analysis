{
 "cells": [
  {
   "cell_type": "code",
   "execution_count": 1,
   "id": "49874751",
   "metadata": {},
   "outputs": [
    {
     "ename": "ModuleNotFoundError",
     "evalue": "No module named 'mne'",
     "output_type": "error",
     "traceback": [
      "\u001b[1;31m---------------------------------------------------------------------------\u001b[0m",
      "\u001b[1;31mModuleNotFoundError\u001b[0m                       Traceback (most recent call last)",
      "Cell \u001b[1;32mIn[1], line 1\u001b[0m\n\u001b[1;32m----> 1\u001b[0m \u001b[38;5;28;01mimport\u001b[39;00m \u001b[38;5;21;01mmne\u001b[39;00m\n\u001b[0;32m      2\u001b[0m raw \u001b[38;5;241m=\u001b[39m mne\u001b[38;5;241m.\u001b[39mio\u001b[38;5;241m.\u001b[39mread_raw_edf(\u001b[38;5;124m'\u001b[39m\u001b[38;5;124m..\u001b[39m\u001b[38;5;124m\\\u001b[39m\u001b[38;5;124mEEG\u001b[39m\u001b[38;5;124m\\\u001b[39m\u001b[38;5;124mdataset\u001b[39m\u001b[38;5;124m\\\u001b[39m\u001b[38;5;124meeg-motor-movementimagery-dataset-1.0.0\u001b[39m\u001b[38;5;130;01m\\f\u001b[39;00m\u001b[38;5;124miles\u001b[39m\u001b[38;5;124m\\\u001b[39m\u001b[38;5;124mS001\u001b[39m\u001b[38;5;124m\\\u001b[39m\u001b[38;5;124mS001R04.edf\u001b[39m\u001b[38;5;124m'\u001b[39m, preload\u001b[38;5;241m=\u001b[39m\u001b[38;5;28;01mTrue\u001b[39;00m)\n",
      "\u001b[1;31mModuleNotFoundError\u001b[0m: No module named 'mne'"
     ]
    }
   ],
   "source": [
    "import mne\n",
    "raw = mne.io.read_raw_edf('..\\EEG\\dataset\\eeg-motor-movementimagery-dataset-1.0.0\\files\\S001\\S001R04.edf', preload=True)"
   ]
  },
  {
   "cell_type": "code",
   "execution_count": null,
   "id": "37344876",
   "metadata": {},
   "outputs": [],
   "source": [
    "data, times = raw[:, :]\n",
    "import pandas as pd\n",
    "df = pd.DataFrame(data.transpose(), columns=raw.ch_names)\n",
    "print(df.head())  # Display the first few rows"
   ]
  }
 ],
 "metadata": {
  "kernelspec": {
   "display_name": "Python 3 (ipykernel)",
   "language": "python",
   "name": "python3"
  },
  "language_info": {
   "codemirror_mode": {
    "name": "ipython",
    "version": 3
   },
   "file_extension": ".py",
   "mimetype": "text/x-python",
   "name": "python",
   "nbconvert_exporter": "python",
   "pygments_lexer": "ipython3",
   "version": "3.11.5"
  }
 },
 "nbformat": 4,
 "nbformat_minor": 5
}
