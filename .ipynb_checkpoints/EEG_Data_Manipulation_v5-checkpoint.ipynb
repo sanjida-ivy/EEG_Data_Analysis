{
 "cells": [
  {
   "cell_type": "code",
   "execution_count": 4,
   "metadata": {},
   "outputs": [
    {
     "name": "stdout",
     "output_type": "stream",
     "text": [
      "Extracting EDF parameters from D:\\EEG\\EEG_Data_Analysis\\dataset\\S001\\S001R04.edf...\n",
      "EDF file detected\n",
      "Setting channel info structure...\n",
      "Creating raw.info structure...\n",
      "Reading 0 ... 19999  =      0.000 ...   124.994 secs...\n",
      "['Fc5.', 'Fc3.', 'Fc1.', 'Fcz.', 'Fc2.', 'Fc4.', 'Fc6.', 'C5..', 'C3..', 'C1..', 'Cz..', 'C2..', 'C4..', 'C6..', 'Cp5.', 'Cp3.', 'Cp1.', 'Cpz.', 'Cp2.', 'Cp4.', 'Cp6.', 'Fp1.', 'Fpz.', 'Fp2.', 'Af7.', 'Af3.', 'Afz.', 'Af4.', 'Af8.', 'F7..', 'F5..', 'F3..', 'F1..', 'Fz..', 'F2..', 'F4..', 'F6..', 'F8..', 'Ft7.', 'Ft8.', 'T7..', 'T8..', 'T9..', 'T10.', 'Tp7.', 'Tp8.', 'P7..', 'P5..', 'P3..', 'P1..', 'Pz..', 'P2..', 'P4..', 'P6..', 'P8..', 'Po7.', 'Po3.', 'Poz.', 'Po4.', 'Po8.', 'O1..', 'Oz..', 'O2..', 'Iz..']\n",
      "<Info | 8 non-empty values\n",
      " bads: []\n",
      " ch_names: FC5, FC3, FC1, FCz, FC2, FC4, FC6, C5, C3, C1, Cz, C2, C4, C6, ...\n",
      " chs: 64 EEG\n",
      " custom_ref_applied: False\n",
      " highpass: 0.0 Hz\n",
      " lowpass: 80.0 Hz\n",
      " meas_date: 2009-08-12 16:15:00 UTC\n",
      " nchan: 64\n",
      " projs: []\n",
      " sfreq: 160.0 Hz\n",
      " subject_info: 3 items (dict)\n",
      ">\n",
      "[{'cal': 1.0, 'logno': 1, 'scanno': 1, 'range': 1.0, 'unit_mul': 0 (FIFF_UNITM_NONE), 'ch_name': 'FC5', 'unit': 107 (FIFF_UNIT_V), 'coord_frame': 4 (FIFFV_COORD_HEAD), 'coil_type': 1 (FIFFV_COIL_EEG), 'kind': 2 (FIFFV_EEG_CH), 'loc': array([-0.07890598,  0.05136738,  0.06296235,  0.        ,  0.        ,\n",
      "        0.        ,         nan,         nan,         nan,         nan,\n",
      "               nan,         nan])}, {'cal': 1.0, 'logno': 2, 'scanno': 2, 'range': 1.0, 'unit_mul': 0 (FIFF_UNITM_NONE), 'ch_name': 'FC3', 'unit': 107 (FIFF_UNIT_V), 'coord_frame': 4 (FIFFV_COORD_HEAD), 'coil_type': 1 (FIFFV_COIL_EEG), 'kind': 2 (FIFFV_EEG_CH), 'loc': array([-0.06185234,  0.05713329,  0.09376583,  0.        ,  0.        ,\n",
      "        0.        ,         nan,         nan,         nan,         nan,\n",
      "               nan,         nan])}, {'cal': 1.0, 'logno': 3, 'scanno': 3, 'range': 1.0, 'unit_mul': 0 (FIFF_UNITM_NONE), 'ch_name': 'FC1', 'unit': 107 (FIFF_UNIT_V), 'coord_frame': 4 (FIFFV_COORD_HEAD), 'coil_type': 1 (FIFFV_COIL_EEG), 'kind': 2 (FIFFV_EEG_CH), 'loc': array([-0.03571586,  0.06171406,  0.11798302,  0.        ,  0.        ,\n",
      "        0.        ,         nan,         nan,         nan,         nan,\n",
      "               nan,         nan])}, {'cal': 1.0, 'logno': 4, 'scanno': 4, 'range': 1.0, 'unit_mul': 0 (FIFF_UNITM_NONE), 'ch_name': 'FCz', 'unit': 107 (FIFF_UNIT_V), 'coord_frame': 4 (FIFFV_COORD_HEAD), 'coil_type': 1 (FIFFV_COIL_EEG), 'kind': 2 (FIFFV_EEG_CH), 'loc': array([-0.00127143,  0.06345979,  0.12657198,  0.        ,  0.        ,\n",
      "        0.        ,         nan,         nan,         nan,         nan,\n",
      "               nan,         nan])}, {'cal': 1.0, 'logno': 5, 'scanno': 5, 'range': 1.0, 'unit_mul': 0 (FIFF_UNITM_NONE), 'ch_name': 'FC2', 'unit': 107 (FIFF_UNIT_V), 'coord_frame': 4 (FIFFV_COORD_HEAD), 'coil_type': 1 (FIFFV_COIL_EEG), 'kind': 2 (FIFFV_EEG_CH), 'loc': array([0.03313098, 0.06182849, 0.1167817 , 0.        , 0.        ,\n",
      "       0.        ,        nan,        nan,        nan,        nan,\n",
      "              nan,        nan])}, {'cal': 1.0, 'logno': 6, 'scanno': 6, 'range': 1.0, 'unit_mul': 0 (FIFF_UNITM_NONE), 'ch_name': 'FC4', 'unit': 107 (FIFF_UNIT_V), 'coord_frame': 4 (FIFFV_COORD_HEAD), 'coil_type': 1 (FIFFV_COIL_EEG), 'kind': 2 (FIFFV_EEG_CH), 'loc': array([0.06062548, 0.05770742, 0.09379462, 0.        , 0.        ,\n",
      "       0.        ,        nan,        nan,        nan,        nan,\n",
      "              nan,        nan])}, {'cal': 1.0, 'logno': 7, 'scanno': 7, 'range': 1.0, 'unit_mul': 0 (FIFF_UNITM_NONE), 'ch_name': 'FC6', 'unit': 107 (FIFF_UNIT_V), 'coord_frame': 4 (FIFFV_COORD_HEAD), 'coil_type': 1 (FIFFV_COIL_EEG), 'kind': 2 (FIFFV_EEG_CH), 'loc': array([0.07784662, 0.05209881, 0.06286711, 0.        , 0.        ,\n",
      "       0.        ,        nan,        nan,        nan,        nan,\n",
      "              nan,        nan])}, {'cal': 1.0, 'logno': 8, 'scanno': 8, 'range': 1.0, 'unit_mul': 0 (FIFF_UNITM_NONE), 'ch_name': 'C5', 'unit': 107 (FIFF_UNIT_V), 'coord_frame': 4 (FIFFV_COORD_HEAD), 'coil_type': 1 (FIFFV_COIL_EEG), 'kind': 2 (FIFFV_EEG_CH), 'loc': array([-0.0820853 ,  0.01929363,  0.06948967,  0.        ,  0.        ,\n",
      "        0.        ,         nan,         nan,         nan,         nan,\n",
      "               nan,         nan])}, {'cal': 1.0, 'logno': 9, 'scanno': 9, 'range': 1.0, 'unit_mul': 0 (FIFF_UNITM_NONE), 'ch_name': 'C3', 'unit': 107 (FIFF_UNIT_V), 'coord_frame': 4 (FIFFV_COORD_HEAD), 'coil_type': 1 (FIFFV_COIL_EEG), 'kind': 2 (FIFFV_EEG_CH), 'loc': array([-0.06714872,  0.02335823,  0.10451068,  0.        ,  0.        ,\n",
      "        0.        ,         nan,         nan,         nan,         nan,\n",
      "               nan,         nan])}, {'cal': 1.0, 'logno': 10, 'scanno': 10, 'range': 1.0, 'unit_mul': 0 (FIFF_UNITM_NONE), 'ch_name': 'C1', 'unit': 107 (FIFF_UNIT_V), 'coord_frame': 4 (FIFFV_COORD_HEAD), 'coil_type': 1 (FIFFV_COIL_EEG), 'kind': 2 (FIFFV_EEG_CH), 'loc': array([-0.03793782,  0.02633745,  0.12977061,  0.        ,  0.        ,\n",
      "        0.        ,         nan,         nan,         nan,         nan,\n",
      "               nan,         nan])}, {'cal': 1.0, 'logno': 11, 'scanno': 11, 'range': 1.0, 'unit_mul': 0 (FIFF_UNITM_NONE), 'ch_name': 'Cz', 'unit': 107 (FIFF_UNIT_V), 'coord_frame': 4 (FIFFV_COORD_HEAD), 'coil_type': 1 (FIFFV_COIL_EEG), 'kind': 2 (FIFFV_EEG_CH), 'loc': array([-0.00137413,  0.02761709,  0.14019949,  0.        ,  0.        ,\n",
      "        0.        ,         nan,         nan,         nan,         nan,\n",
      "               nan,         nan])}, {'cal': 1.0, 'logno': 12, 'scanno': 12, 'range': 1.0, 'unit_mul': 0 (FIFF_UNITM_NONE), 'ch_name': 'C2', 'unit': 107 (FIFF_UNIT_V), 'coord_frame': 4 (FIFFV_COORD_HEAD), 'coil_type': 1 (FIFFV_COIL_EEG), 'kind': 2 (FIFFV_EEG_CH), 'loc': array([0.03589272, 0.02635814, 0.12841234, 0.        , 0.        ,\n",
      "       0.        ,        nan,        nan,        nan,        nan,\n",
      "              nan,        nan])}, {'cal': 1.0, 'logno': 13, 'scanno': 13, 'range': 1.0, 'unit_mul': 0 (FIFF_UNITM_NONE), 'ch_name': 'C4', 'unit': 107 (FIFF_UNIT_V), 'coord_frame': 4 (FIFFV_COORD_HEAD), 'coil_type': 1 (FIFFV_COIL_EEG), 'kind': 2 (FIFFV_EEG_CH), 'loc': array([0.06532888, 0.0235731 , 0.10369243, 0.        , 0.        ,\n",
      "       0.        ,        nan,        nan,        nan,        nan,\n",
      "              nan,        nan])}, {'cal': 1.0, 'logno': 14, 'scanno': 14, 'range': 1.0, 'unit_mul': 0 (FIFF_UNITM_NONE), 'ch_name': 'C6', 'unit': 107 (FIFF_UNIT_V), 'coord_frame': 4 (FIFFV_COORD_HEAD), 'coil_type': 1 (FIFFV_COIL_EEG), 'kind': 2 (FIFFV_EEG_CH), 'loc': array([0.08165317, 0.01969566, 0.06948181, 0.        , 0.        ,\n",
      "       0.        ,        nan,        nan,        nan,        nan,\n",
      "              nan,        nan])}, {'cal': 1.0, 'logno': 15, 'scanno': 15, 'range': 1.0, 'unit_mul': 0 (FIFF_UNITM_NONE), 'ch_name': 'CP5', 'unit': 107 (FIFF_UNIT_V), 'coord_frame': 4 (FIFFV_COORD_HEAD), 'coil_type': 1 (FIFFV_COIL_EEG), 'kind': 2 (FIFFV_EEG_CH), 'loc': array([-0.08151351, -0.01334569,  0.07313263,  0.        ,  0.        ,\n",
      "        0.        ,         nan,         nan,         nan,         nan,\n",
      "               nan,         nan])}, {'cal': 1.0, 'logno': 16, 'scanno': 16, 'range': 1.0, 'unit_mul': 0 (FIFF_UNITM_NONE), 'ch_name': 'CP3', 'unit': 107 (FIFF_UNIT_V), 'coord_frame': 4 (FIFFV_COORD_HEAD), 'coil_type': 1 (FIFFV_COIL_EEG), 'kind': 2 (FIFFV_EEG_CH), 'loc': array([-0.06547223, -0.0118966 ,  0.10777792,  0.        ,  0.        ,\n",
      "        0.        ,         nan,         nan,         nan,         nan,\n",
      "               nan,         nan])}, {'cal': 1.0, 'logno': 17, 'scanno': 17, 'range': 1.0, 'unit_mul': 0 (FIFF_UNITM_NONE), 'ch_name': 'CP1', 'unit': 107 (FIFF_UNIT_V), 'coord_frame': 4 (FIFFV_COORD_HEAD), 'coil_type': 1 (FIFFV_COIL_EEG), 'kind': 2 (FIFFV_EEG_CH), 'loc': array([-0.03742513, -0.01082424,  0.13344371,  0.        ,  0.        ,\n",
      "        0.        ,         nan,         nan,         nan,         nan,\n",
      "               nan,         nan])}, {'cal': 1.0, 'logno': 18, 'scanno': 18, 'range': 1.0, 'unit_mul': 0 (FIFF_UNITM_NONE), 'ch_name': 'CPz', 'unit': 107 (FIFF_UNIT_V), 'coord_frame': 4 (FIFFV_COORD_HEAD), 'coil_type': 1 (FIFFV_COIL_EEG), 'kind': 2 (FIFFV_EEG_CH), 'loc': array([-0.0015249 , -0.01051838,  0.14154914,  0.        ,  0.        ,\n",
      "        0.        ,         nan,         nan,         nan,         nan,\n",
      "               nan,         nan])}, {'cal': 1.0, 'logno': 19, 'scanno': 19, 'range': 1.0, 'unit_mul': 0 (FIFF_UNITM_NONE), 'ch_name': 'CP2', 'unit': 107 (FIFF_UNIT_V), 'coord_frame': 4 (FIFFV_COORD_HEAD), 'coil_type': 1 (FIFFV_COIL_EEG), 'kind': 2 (FIFFV_EEG_CH), 'loc': array([ 0.03647196, -0.01090379,  0.13281227,  0.        ,  0.        ,\n",
      "        0.        ,         nan,         nan,         nan,         nan,\n",
      "               nan,         nan])}, {'cal': 1.0, 'logno': 20, 'scanno': 20, 'range': 1.0, 'unit_mul': 0 (FIFF_UNITM_NONE), 'ch_name': 'CP4', 'unit': 107 (FIFF_UNIT_V), 'coord_frame': 4 (FIFFV_COORD_HEAD), 'coil_type': 1 (FIFFV_COIL_EEG), 'kind': 2 (FIFFV_EEG_CH), 'loc': array([ 0.06469626, -0.01199118,  0.10771287,  0.        ,  0.        ,\n",
      "        0.        ,         nan,         nan,         nan,         nan,\n",
      "               nan,         nan])}, {'cal': 1.0, 'logno': 21, 'scanno': 21, 'range': 1.0, 'unit_mul': 0 (FIFF_UNITM_NONE), 'ch_name': 'CP6', 'unit': 107 (FIFF_UNIT_V), 'coord_frame': 4 (FIFFV_COORD_HEAD), 'coil_type': 1 (FIFFV_COIL_EEG), 'kind': 2 (FIFFV_EEG_CH), 'loc': array([ 0.08140111, -0.01346204,  0.07336367,  0.        ,  0.        ,\n",
      "        0.        ,         nan,         nan,         nan,         nan,\n",
      "               nan,         nan])}, {'cal': 1.0, 'logno': 22, 'scanno': 22, 'range': 1.0, 'unit_mul': 0 (FIFF_UNITM_NONE), 'ch_name': 'Fp1', 'unit': 107 (FIFF_UNIT_V), 'coord_frame': 4 (FIFFV_COORD_HEAD), 'coil_type': 1 (FIFFV_COIL_EEG), 'kind': 2 (FIFFV_EEG_CH), 'loc': array([-0.03090259,  0.11458518,  0.02786657,  0.        ,  0.        ,\n",
      "        0.        ,         nan,         nan,         nan,         nan,\n",
      "               nan,         nan])}, {'cal': 1.0, 'logno': 23, 'scanno': 23, 'range': 1.0, 'unit_mul': 0 (FIFF_UNITM_NONE), 'ch_name': 'Fpz', 'unit': 107 (FIFF_UNIT_V), 'coord_frame': 4 (FIFFV_COORD_HEAD), 'coil_type': 1 (FIFFV_COIL_EEG), 'kind': 2 (FIFFV_EEG_CH), 'loc': array([-0.00133733,  0.1191018 ,  0.0328899 ,  0.        ,  0.        ,\n",
      "        0.        ,         nan,         nan,         nan,         nan,\n",
      "               nan,         nan])}, {'cal': 1.0, 'logno': 24, 'scanno': 24, 'range': 1.0, 'unit_mul': 0 (FIFF_UNITM_NONE), 'ch_name': 'Fp2', 'unit': 107 (FIFF_UNIT_V), 'coord_frame': 4 (FIFFV_COORD_HEAD), 'coil_type': 1 (FIFFV_COIL_EEG), 'kind': 2 (FIFFV_EEG_CH), 'loc': array([0.0284095 , 0.11534631, 0.02772126, 0.        , 0.        ,\n",
      "       0.        ,        nan,        nan,        nan,        nan,\n",
      "              nan,        nan])}, {'cal': 1.0, 'logno': 25, 'scanno': 25, 'range': 1.0, 'unit_mul': 0 (FIFF_UNITM_NONE), 'ch_name': 'AF7', 'unit': 107 (FIFF_UNIT_V), 'coord_frame': 4 (FIFFV_COORD_HEAD), 'coil_type': 1 (FIFFV_COIL_EEG), 'kind': 2 (FIFFV_EEG_CH), 'loc': array([-0.05636066,  0.09915152,  0.02514129,  0.        ,  0.        ,\n",
      "        0.        ,         nan,         nan,         nan,         nan,\n",
      "               nan,         nan])}, {'cal': 1.0, 'logno': 26, 'scanno': 26, 'range': 1.0, 'unit_mul': 0 (FIFF_UNITM_NONE), 'ch_name': 'AF3', 'unit': 107 (FIFF_UNIT_V), 'coord_frame': 4 (FIFFV_COORD_HEAD), 'coil_type': 1 (FIFFV_COIL_EEG), 'kind': 2 (FIFFV_EEG_CH), 'loc': array([-0.03518601,  0.10912957,  0.05643921,  0.        ,  0.        ,\n",
      "        0.        ,         nan,         nan,         nan,         nan,\n",
      "               nan,         nan])}, {'cal': 1.0, 'logno': 27, 'scanno': 27, 'range': 1.0, 'unit_mul': 0 (FIFF_UNITM_NONE), 'ch_name': 'AFz', 'unit': 107 (FIFF_UNIT_V), 'coord_frame': 4 (FIFFV_COORD_HEAD), 'coil_type': 1 (FIFFV_COIL_EEG), 'kind': 2 (FIFFV_EEG_CH), 'loc': array([-0.00123738,  0.11373993,  0.07038366,  0.        ,  0.        ,\n",
      "        0.        ,         nan,         nan,         nan,         nan,\n",
      "               nan,         nan])}, {'cal': 1.0, 'logno': 28, 'scanno': 28, 'range': 1.0, 'unit_mul': 0 (FIFF_UNITM_NONE), 'ch_name': 'AF4', 'unit': 107 (FIFF_UNIT_V), 'coord_frame': 4 (FIFFV_COORD_HEAD), 'coil_type': 1 (FIFFV_COIL_EEG), 'kind': 2 (FIFFV_EEG_CH), 'loc': array([0.03422986, 0.10981127, 0.05711667, 0.        , 0.        ,\n",
      "       0.        ,        nan,        nan,        nan,        nan,\n",
      "              nan,        nan])}, {'cal': 1.0, 'logno': 29, 'scanno': 29, 'range': 1.0, 'unit_mul': 0 (FIFF_UNITM_NONE), 'ch_name': 'AF8', 'unit': 107 (FIFF_UNIT_V), 'coord_frame': 4 (FIFFV_COORD_HEAD), 'coil_type': 1 (FIFFV_COIL_EEG), 'kind': 2 (FIFFV_EEG_CH), 'loc': array([0.05422546, 0.09983162, 0.02491507, 0.        , 0.        ,\n",
      "       0.        ,        nan,        nan,        nan,        nan,\n",
      "              nan,        nan])}, {'cal': 1.0, 'logno': 30, 'scanno': 30, 'range': 1.0, 'unit_mul': 0 (FIFF_UNITM_NONE), 'ch_name': 'F7', 'unit': 107 (FIFF_UNIT_V), 'coord_frame': 4 (FIFFV_COORD_HEAD), 'coil_type': 1 (FIFFV_COIL_EEG), 'kind': 2 (FIFFV_EEG_CH), 'loc': array([-0.07187663,  0.07310353,  0.02579046,  0.        ,  0.        ,\n",
      "        0.        ,         nan,         nan,         nan,         nan,\n",
      "               nan,         nan])}, {'cal': 1.0, 'logno': 31, 'scanno': 31, 'range': 1.0, 'unit_mul': 0 (FIFF_UNITM_NONE), 'ch_name': 'F5', 'unit': 107 (FIFF_UNIT_V), 'coord_frame': 4 (FIFFV_COORD_HEAD), 'coil_type': 1 (FIFFV_COIL_EEG), 'kind': 2 (FIFFV_EEG_CH), 'loc': array([-0.06605408,  0.08023978,  0.05377108,  0.        ,  0.        ,\n",
      "        0.        ,         nan,         nan,         nan,         nan,\n",
      "               nan,         nan])}, {'cal': 1.0, 'logno': 32, 'scanno': 32, 'range': 1.0, 'unit_mul': 0 (FIFF_UNITM_NONE), 'ch_name': 'F3', 'unit': 107 (FIFF_UNIT_V), 'coord_frame': 4 (FIFFV_COORD_HEAD), 'coil_type': 1 (FIFFV_COIL_EEG), 'kind': 2 (FIFFV_EEG_CH), 'loc': array([-0.05180904,  0.0866879 ,  0.07871409,  0.        ,  0.        ,\n",
      "        0.        ,         nan,         nan,         nan,         nan,\n",
      "               nan,         nan])}, {'cal': 1.0, 'logno': 33, 'scanno': 33, 'range': 1.0, 'unit_mul': 0 (FIFF_UNITM_NONE), 'ch_name': 'F1', 'unit': 107 (FIFF_UNIT_V), 'coord_frame': 4 (FIFFV_COORD_HEAD), 'coil_type': 1 (FIFFV_COIL_EEG), 'kind': 2 (FIFFV_EEG_CH), 'loc': array([-0.02904395,  0.09144848,  0.09661865,  0.        ,  0.        ,\n",
      "        0.        ,         nan,         nan,         nan,         nan,\n",
      "               nan,         nan])}, {'cal': 1.0, 'logno': 34, 'scanno': 34, 'range': 1.0, 'unit_mul': 0 (FIFF_UNITM_NONE), 'ch_name': 'Fz', 'unit': 107 (FIFF_UNIT_V), 'coord_frame': 4 (FIFFV_COORD_HEAD), 'coil_type': 1 (FIFFV_COIL_EEG), 'kind': 2 (FIFFV_EEG_CH), 'loc': array([-0.00122927,  0.09327445,  0.10263929,  0.        ,  0.        ,\n",
      "        0.        ,         nan,         nan,         nan,         nan,\n",
      "               nan,         nan])}, {'cal': 1.0, 'logno': 35, 'scanno': 35, 'range': 1.0, 'unit_mul': 0 (FIFF_UNITM_NONE), 'ch_name': 'F2', 'unit': 107 (FIFF_UNIT_V), 'coord_frame': 4 (FIFFV_COORD_HEAD), 'coil_type': 1 (FIFFV_COIL_EEG), 'kind': 2 (FIFFV_EEG_CH), 'loc': array([0.02796791, 0.09186997, 0.09577992, 0.        , 0.        ,\n",
      "       0.        ,        nan,        nan,        nan,        nan,\n",
      "              nan,        nan])}, {'cal': 1.0, 'logno': 36, 'scanno': 36, 'range': 1.0, 'unit_mul': 0 (FIFF_UNITM_NONE), 'ch_name': 'F4', 'unit': 107 (FIFF_UNIT_V), 'coord_frame': 4 (FIFFV_COORD_HEAD), 'coil_type': 1 (FIFFV_COIL_EEG), 'kind': 2 (FIFFV_EEG_CH), 'loc': array([0.05027428, 0.08743839, 0.07727065, 0.        , 0.        ,\n",
      "       0.        ,        nan,        nan,        nan,        nan,\n",
      "              nan,        nan])}, {'cal': 1.0, 'logno': 37, 'scanno': 37, 'range': 1.0, 'unit_mul': 0 (FIFF_UNITM_NONE), 'ch_name': 'F6', 'unit': 107 (FIFF_UNIT_V), 'coord_frame': 4 (FIFFV_COORD_HEAD), 'coil_type': 1 (FIFFV_COIL_EEG), 'kind': 2 (FIFFV_EEG_CH), 'loc': array([0.06633134, 0.08152897, 0.05311628, 0.        , 0.        ,\n",
      "       0.        ,        nan,        nan,        nan,        nan,\n",
      "              nan,        nan])}, {'cal': 1.0, 'logno': 38, 'scanno': 38, 'range': 1.0, 'unit_mul': 0 (FIFF_UNITM_NONE), 'ch_name': 'F8', 'unit': 107 (FIFF_UNIT_V), 'coord_frame': 4 (FIFFV_COORD_HEAD), 'coil_type': 1 (FIFFV_COIL_EEG), 'kind': 2 (FIFFV_EEG_CH), 'loc': array([0.07143527, 0.07450513, 0.02510103, 0.        , 0.        ,\n",
      "       0.        ,        nan,        nan,        nan,        nan,\n",
      "              nan,        nan])}, {'cal': 1.0, 'logno': 39, 'scanno': 39, 'range': 1.0, 'unit_mul': 0 (FIFF_UNITM_NONE), 'ch_name': 'FT7', 'unit': 107 (FIFF_UNIT_V), 'coord_frame': 4 (FIFFV_COORD_HEAD), 'coil_type': 1 (FIFFV_COIL_EEG), 'kind': 2 (FIFFV_EEG_CH), 'loc': array([-0.08248931,  0.04484874,  0.02768058,  0.        ,  0.        ,\n",
      "        0.        ,         nan,         nan,         nan,         nan,\n",
      "               nan,         nan])}, {'cal': 1.0, 'logno': 40, 'scanno': 40, 'range': 1.0, 'unit_mul': 0 (FIFF_UNITM_NONE), 'ch_name': 'FT8', 'unit': 107 (FIFF_UNIT_V), 'coord_frame': 4 (FIFFV_COORD_HEAD), 'coil_type': 1 (FIFFV_COIL_EEG), 'kind': 2 (FIFFV_EEG_CH), 'loc': array([0.08010433, 0.04555358, 0.02741239, 0.        , 0.        ,\n",
      "       0.        ,        nan,        nan,        nan,        nan,\n",
      "              nan,        nan])}, {'cal': 1.0, 'logno': 41, 'scanno': 41, 'range': 1.0, 'unit_mul': 0 (FIFF_UNITM_NONE), 'ch_name': 'T7', 'unit': 107 (FIFF_UNIT_V), 'coord_frame': 4 (FIFFV_COORD_HEAD), 'coil_type': 1 (FIFFV_COIL_EEG), 'kind': 2 (FIFFV_EEG_CH), 'loc': array([-0.08598208,  0.01487164,  0.03117337,  0.        ,  0.        ,\n",
      "        0.        ,         nan,         nan,         nan,         nan,\n",
      "               nan,         nan])}, {'cal': 1.0, 'logno': 42, 'scanno': 42, 'range': 1.0, 'unit_mul': 0 (FIFF_UNITM_NONE), 'ch_name': 'T8', 'unit': 107 (FIFF_UNIT_V), 'coord_frame': 4 (FIFFV_COORD_HEAD), 'coil_type': 1 (FIFFV_COIL_EEG), 'kind': 2 (FIFFV_EEG_CH), 'loc': array([0.08326137, 0.01525819, 0.03097297, 0.        , 0.        ,\n",
      "       0.        ,        nan,        nan,        nan,        nan,\n",
      "              nan,        nan])}, {'cal': 1.0, 'logno': 43, 'scanno': 43, 'range': 1.0, 'unit_mul': 0 (FIFF_UNITM_NONE), 'ch_name': 'T9', 'unit': 107 (FIFF_UNIT_V), 'coord_frame': 4 (FIFFV_COORD_HEAD), 'coil_type': 1 (FIFFV_COIL_EEG), 'kind': 2 (FIFFV_EEG_CH), 'loc': array([-0.08772226,  0.01286266, -0.00771191,  0.        ,  0.        ,\n",
      "        0.        ,         nan,         nan,         nan,         nan,\n",
      "               nan,         nan])}, {'cal': 1.0, 'logno': 44, 'scanno': 44, 'range': 1.0, 'unit_mul': 0 (FIFF_UNITM_NONE), 'ch_name': 'T10', 'unit': 107 (FIFF_UNIT_V), 'coord_frame': 4 (FIFFV_COORD_HEAD), 'coil_type': 1 (FIFFV_COIL_EEG), 'kind': 2 (FIFFV_EEG_CH), 'loc': array([ 0.08372877,  0.01172163, -0.00766987,  0.        ,  0.        ,\n",
      "        0.        ,         nan,         nan,         nan,         nan,\n",
      "               nan,         nan])}, {'cal': 1.0, 'logno': 45, 'scanno': 45, 'range': 1.0, 'unit_mul': 0 (FIFF_UNITM_NONE), 'ch_name': 'TP7', 'unit': 107 (FIFF_UNIT_V), 'coord_frame': 4 (FIFFV_COORD_HEAD), 'coil_type': 1 (FIFFV_COIL_EEG), 'kind': 2 (FIFFV_EEG_CH), 'loc': array([-0.08675728, -0.01495098,  0.03515866,  0.        ,  0.        ,\n",
      "        0.        ,         nan,         nan,         nan,         nan,\n",
      "               nan,         nan])}, {'cal': 1.0, 'logno': 46, 'scanno': 46, 'range': 1.0, 'unit_mul': 0 (FIFF_UNITM_NONE), 'ch_name': 'TP8', 'unit': 107 (FIFF_UNIT_V), 'coord_frame': 4 (FIFFV_COORD_HEAD), 'coil_type': 1 (FIFFV_COIL_EEG), 'kind': 2 (FIFFV_EEG_CH), 'loc': array([ 0.08362232, -0.01508567,  0.0350577 ,  0.        ,  0.        ,\n",
      "        0.        ,         nan,         nan,         nan,         nan,\n",
      "               nan,         nan])}, {'cal': 1.0, 'logno': 47, 'scanno': 47, 'range': 1.0, 'unit_mul': 0 (FIFF_UNITM_NONE), 'ch_name': 'P7', 'unit': 107 (FIFF_UNIT_V), 'coord_frame': 4 (FIFFV_COORD_HEAD), 'coil_type': 1 (FIFFV_COIL_EEG), 'kind': 2 (FIFFV_EEG_CH), 'loc': array([-0.07445796, -0.04212316,  0.04127363,  0.        ,  0.        ,\n",
      "        0.        ,         nan,         nan,         nan,         nan,\n",
      "               nan,         nan])}, {'cal': 1.0, 'logno': 48, 'scanno': 48, 'range': 1.0, 'unit_mul': 0 (FIFF_UNITM_NONE), 'ch_name': 'P5', 'unit': 107 (FIFF_UNIT_V), 'coord_frame': 4 (FIFFV_COORD_HEAD), 'coil_type': 1 (FIFFV_COIL_EEG), 'kind': 2 (FIFFV_EEG_CH), 'loc': array([-0.06929984, -0.04322697,  0.0722538 ,  0.        ,  0.        ,\n",
      "        0.        ,         nan,         nan,         nan,         nan,\n",
      "               nan,         nan])}, {'cal': 1.0, 'logno': 49, 'scanno': 49, 'range': 1.0, 'unit_mul': 0 (FIFF_UNITM_NONE), 'ch_name': 'P3', 'unit': 107 (FIFF_UNIT_V), 'coord_frame': 4 (FIFFV_COORD_HEAD), 'coil_type': 1 (FIFFV_COIL_EEG), 'kind': 2 (FIFFV_EEG_CH), 'loc': array([-0.05503823, -0.0442103 ,  0.09990898,  0.        ,  0.        ,\n",
      "        0.        ,         nan,         nan,         nan,         nan,\n",
      "               nan,         nan])}, {'cal': 1.0, 'logno': 50, 'scanno': 50, 'range': 1.0, 'unit_mul': 0 (FIFF_UNITM_NONE), 'ch_name': 'P1', 'unit': 107 (FIFF_UNIT_V), 'coord_frame': 4 (FIFFV_COORD_HEAD), 'coil_type': 1 (FIFFV_COIL_EEG), 'kind': 2 (FIFFV_EEG_CH), 'loc': array([-0.03065362, -0.04492739,  0.11947205,  0.        ,  0.        ,\n",
      "        0.        ,         nan,         nan,         nan,         nan,\n",
      "               nan,         nan])}, {'cal': 1.0, 'logno': 51, 'scanno': 51, 'range': 1.0, 'unit_mul': 0 (FIFF_UNITM_NONE), 'ch_name': 'Pz', 'unit': 107 (FIFF_UNIT_V), 'coord_frame': 4 (FIFFV_COORD_HEAD), 'coil_type': 1 (FIFFV_COIL_EEG), 'kind': 2 (FIFFV_EEG_CH), 'loc': array([-0.00170945, -0.04521299,  0.12667292,  0.        ,  0.        ,\n",
      "        0.        ,         nan,         nan,         nan,         nan,\n",
      "               nan,         nan])}, {'cal': 1.0, 'logno': 52, 'scanno': 52, 'range': 1.0, 'unit_mul': 0 (FIFF_UNITM_NONE), 'ch_name': 'P2', 'unit': 107 (FIFF_UNIT_V), 'coord_frame': 4 (FIFFV_COORD_HEAD), 'coil_type': 1 (FIFFV_COIL_EEG), 'kind': 2 (FIFFV_EEG_CH), 'loc': array([ 0.02988639, -0.04503254,  0.12074782,  0.        ,  0.        ,\n",
      "        0.        ,         nan,         nan,         nan,         nan,\n",
      "               nan,         nan])}, {'cal': 1.0, 'logno': 53, 'scanno': 53, 'range': 1.0, 'unit_mul': 0 (FIFF_UNITM_NONE), 'ch_name': 'P4', 'unit': 107 (FIFF_UNIT_V), 'coord_frame': 4 (FIFFV_COORD_HEAD), 'coil_type': 1 (FIFFV_COIL_EEG), 'kind': 2 (FIFFV_EEG_CH), 'loc': array([ 0.05363602, -0.04433452,  0.10051603,  0.        ,  0.        ,\n",
      "        0.        ,         nan,         nan,         nan,         nan,\n",
      "               nan,         nan])}, {'cal': 1.0, 'logno': 54, 'scanno': 54, 'range': 1.0, 'unit_mul': 0 (FIFF_UNITM_NONE), 'ch_name': 'P6', 'unit': 107 (FIFF_UNIT_V), 'coord_frame': 4 (FIFFV_COORD_HEAD), 'coil_type': 1 (FIFFV_COIL_EEG), 'kind': 2 (FIFFV_EEG_CH), 'loc': array([ 0.06586062, -0.04333852,  0.07194131,  0.        ,  0.        ,\n",
      "        0.        ,         nan,         nan,         nan,         nan,\n",
      "               nan,         nan])}, {'cal': 1.0, 'logno': 55, 'scanno': 55, 'range': 1.0, 'unit_mul': 0 (FIFF_UNITM_NONE), 'ch_name': 'P8', 'unit': 107 (FIFF_UNIT_V), 'coord_frame': 4 (FIFFV_COORD_HEAD), 'coil_type': 1 (FIFFV_COIL_EEG), 'kind': 2 (FIFFV_EEG_CH), 'loc': array([ 0.07103247, -0.04225998,  0.04119886,  0.        ,  0.        ,\n",
      "        0.        ,         nan,         nan,         nan,         nan,\n",
      "               nan,         nan])}, {'cal': 1.0, 'logno': 56, 'scanno': 56, 'range': 1.0, 'unit_mul': 0 (FIFF_UNITM_NONE), 'ch_name': 'PO7', 'unit': 107 (FIFF_UNIT_V), 'coord_frame': 4 (FIFFV_COORD_HEAD), 'coil_type': 1 (FIFFV_COIL_EEG), 'kind': 2 (FIFFV_EEG_CH), 'loc': array([-0.05694862, -0.06592325,  0.04790744,  0.        ,  0.        ,\n",
      "        0.        ,         nan,         nan,         nan,         nan,\n",
      "               nan,         nan])}, {'cal': 1.0, 'logno': 57, 'scanno': 57, 'range': 1.0, 'unit_mul': 0 (FIFF_UNITM_NONE), 'ch_name': 'PO3', 'unit': 107 (FIFF_UNIT_V), 'coord_frame': 4 (FIFFV_COORD_HEAD), 'coil_type': 1 (FIFFV_COIL_EEG), 'kind': 2 (FIFFV_EEG_CH), 'loc': array([-0.0386246 , -0.06736158,  0.08241555,  0.        ,  0.        ,\n",
      "        0.        ,         nan,         nan,         nan,         nan,\n",
      "               nan,         nan])}, {'cal': 1.0, 'logno': 58, 'scanno': 58, 'range': 1.0, 'unit_mul': 0 (FIFF_UNITM_NONE), 'ch_name': 'POz', 'unit': 107 (FIFF_UNIT_V), 'coord_frame': 4 (FIFFV_COORD_HEAD), 'coil_type': 1 (FIFFV_COIL_EEG), 'kind': 2 (FIFFV_EEG_CH), 'loc': array([-0.00189982, -0.0680541 ,  0.09591   ,  0.        ,  0.        ,\n",
      "        0.        ,         nan,         nan,         nan,         nan,\n",
      "               nan,         nan])}, {'cal': 1.0, 'logno': 59, 'scanno': 59, 'range': 1.0, 'unit_mul': 0 (FIFF_UNITM_NONE), 'ch_name': 'PO4', 'unit': 107 (FIFF_UNIT_V), 'coord_frame': 4 (FIFFV_COORD_HEAD), 'coil_type': 1 (FIFFV_COIL_EEG), 'kind': 2 (FIFFV_EEG_CH), 'loc': array([ 0.03466779, -0.06766214,  0.08164653,  0.        ,  0.        ,\n",
      "        0.        ,         nan,         nan,         nan,         nan,\n",
      "               nan,         nan])}, {'cal': 1.0, 'logno': 60, 'scanno': 60, 'range': 1.0, 'unit_mul': 0 (FIFF_UNITM_NONE), 'ch_name': 'PO8', 'unit': 107 (FIFF_UNIT_V), 'coord_frame': 4 (FIFFV_COORD_HEAD), 'coil_type': 1 (FIFFV_COIL_EEG), 'kind': 2 (FIFFV_EEG_CH), 'loc': array([ 0.05355732, -0.06641694,  0.04785098,  0.        ,  0.        ,\n",
      "        0.        ,         nan,         nan,         nan,         nan,\n",
      "               nan,         nan])}, {'cal': 1.0, 'logno': 61, 'scanno': 61, 'range': 1.0, 'unit_mul': 0 (FIFF_UNITM_NONE), 'ch_name': 'O1', 'unit': 107 (FIFF_UNIT_V), 'coord_frame': 4 (FIFFV_COORD_HEAD), 'coil_type': 1 (FIFFV_COIL_EEG), 'kind': 2 (FIFFV_EEG_CH), 'loc': array([-0.03157356, -0.08056835,  0.05478965,  0.        ,  0.        ,\n",
      "        0.        ,         nan,         nan,         nan,         nan,\n",
      "               nan,         nan])}, {'cal': 1.0, 'logno': 62, 'scanno': 62, 'range': 1.0, 'unit_mul': 0 (FIFF_UNITM_NONE), 'ch_name': 'Oz', 'unit': 107 (FIFF_UNIT_V), 'coord_frame': 4 (FIFFV_COORD_HEAD), 'coil_type': 1 (FIFFV_COIL_EEG), 'kind': 2 (FIFFV_EEG_CH), 'loc': array([-0.00206025, -0.08278299,  0.06073663,  0.        ,  0.        ,\n",
      "        0.        ,         nan,         nan,         nan,         nan,\n",
      "               nan,         nan])}, {'cal': 1.0, 'logno': 63, 'scanno': 63, 'range': 1.0, 'unit_mul': 0 (FIFF_UNITM_NONE), 'ch_name': 'O2', 'unit': 107 (FIFF_UNIT_V), 'coord_frame': 4 (FIFFV_COORD_HEAD), 'coil_type': 1 (FIFFV_COIL_EEG), 'kind': 2 (FIFFV_EEG_CH), 'loc': array([ 0.0276831 , -0.08048884,  0.05473408,  0.        ,  0.        ,\n",
      "        0.        ,         nan,         nan,         nan,         nan,\n",
      "               nan,         nan])}, {'cal': 1.0, 'logno': 64, 'scanno': 64, 'range': 1.0, 'unit_mul': 0 (FIFF_UNITM_NONE), 'ch_name': 'Iz', 'unit': 107 (FIFF_UNIT_V), 'coord_frame': 4 (FIFFV_COORD_HEAD), 'coil_type': 1 (FIFFV_COIL_EEG), 'kind': 2 (FIFFV_EEG_CH), 'loc': array([-0.00218402, -0.08858648,  0.02327017,  0.        ,  0.        ,\n",
      "        0.        ,         nan,         nan,         nan,         nan,\n",
      "               nan,         nan])}]\n",
      "Used Annotations descriptions: ['T0', 'T1', 'T2']\n"
     ]
    },
    {
     "name": "stdout",
     "output_type": "stream",
     "text": [
      "[[    0     0     1]\n",
      " [  672     0     3]\n",
      " [ 1328     0     1]\n",
      " [ 2000     0     2]\n",
      " [ 2656     0     1]\n",
      " [ 3328     0     2]\n",
      " [ 3984     0     1]\n",
      " [ 4656     0     3]\n",
      " [ 5312     0     1]\n",
      " [ 5984     0     3]\n",
      " [ 6640     0     1]\n",
      " [ 7312     0     2]\n",
      " [ 7968     0     1]\n",
      " [ 8640     0     3]\n",
      " [ 9296     0     1]\n",
      " [ 9968     0     2]\n",
      " [10624     0     1]\n",
      " [11296     0     3]\n",
      " [11952     0     1]\n",
      " [12624     0     2]\n",
      " [13280     0     1]\n",
      " [13952     0     2]\n",
      " [14608     0     1]\n",
      " [15280     0     3]\n",
      " [15936     0     1]\n",
      " [16608     0     2]\n",
      " [17264     0     1]\n",
      " [17936     0     3]\n",
      " [18592     0     1]\n",
      " [19264     0     2]]\n",
      "{'T0': 1, 'T1': 2, 'T2': 3}\n",
      "<Annotations | 30 segments: T0 (15), T1 (8), T2 (7)>\n",
      "Not setting metadata\n",
      "30 matching events found\n",
      "Setting baseline interval to [-0.2, 0.0] s\n",
      "Applying baseline correction (mode: mean)\n",
      "0 projection items activated\n",
      "Using data from preloaded Raw for 30 events and 113 original time points ...\n",
      "1 bad epochs dropped\n"
     ]
    }
   ],
   "source": [
    "%matplotlib inline\n",
    "import pandas as pd\n",
    "import mne\n",
    "import numpy as np\n",
    "from mne.preprocessing import ICA\n",
    "import matplotlib.pyplot as plt\n",
    "from mne.viz import plot_raw\n",
    "\n",
    "raw = mne.io.read_raw_edf(r'D:\\EEG\\EEG_Data_Analysis\\dataset\\S001\\S001R04.edf', preload=True)\n",
    "print(raw.ch_names)\n",
    "\n",
    "\n",
    "# Example renaming of channels to match the 'standard_1020' montage\n",
    "new_names = {\n",
    "    'Fc5.': 'FC5', 'Fc3.': 'FC3', 'Fc1.': 'FC1', 'Fcz.': 'FCz', 'Fc2.': 'FC2', 'Fc4.': 'FC4', 'Fc6.': 'FC6',\n",
    "    'C5..': 'C5', 'C3..': 'C3', 'C1..': 'C1', 'Cz..': 'Cz', 'C2..': 'C2', 'C4..': 'C4', 'C6..': 'C6',\n",
    "    'Cp5.': 'CP5', 'Cp3.': 'CP3', 'Cp1.': 'CP1', 'Cpz.': 'CPz', 'Cp2.': 'CP2', 'Cp4.': 'CP4', 'Cp6.': 'CP6',\n",
    "    'Fp1.': 'Fp1', 'Fpz.': 'Fpz', 'Fp2.': 'Fp2',\n",
    "    'Af7.': 'AF7', 'Af3.': 'AF3', 'Afz.': 'AFz', 'Af4.': 'AF4', 'Af8.': 'AF8',\n",
    "    'F7..': 'F7', 'F5..': 'F5', 'F3..': 'F3', 'F1..': 'F1', 'Fz..': 'Fz', 'F2..': 'F2', 'F4..': 'F4', 'F6..': 'F6', 'F8..': 'F8',\n",
    "    'Ft7.': 'FT7', 'Ft8.': 'FT8',\n",
    "    'T7..': 'T7', 'T8..': 'T8', 'T9..': 'T9', 'T10.': 'T10',\n",
    "    'Tp7.': 'TP7', 'Tp8.': 'TP8',\n",
    "    'P7..': 'P7', 'P5..': 'P5', 'P3..': 'P3', 'P1..': 'P1', 'Pz..': 'Pz', 'P2..': 'P2', 'P4..': 'P4', 'P6..': 'P6', 'P8..': 'P8',\n",
    "    'Po7.': 'PO7', 'Po3.': 'PO3', 'Poz.': 'POz', 'Po4.': 'PO4', 'Po8.': 'PO8',\n",
    "    'O1..': 'O1', 'Oz..': 'Oz', 'O2..': 'O2', \n",
    "    'Iz..': 'Iz'\n",
    "}\n",
    "\n",
    "raw.rename_channels(new_names)\n",
    "print(raw.info)\n",
    "raw.get_channel_types()\n",
    "\n",
    "montage = mne.channels.make_standard_montage('standard_1020')\n",
    "raw.set_montage(montage)\n",
    "\n",
    "print(raw.info['chs'])\n",
    "\n",
    "events, event_id = mne.events_from_annotations(raw)\n",
    "print(events)\n",
    "print(event_id)\n",
    "print(raw.annotations)\n",
    "\n",
    "event_dict = {\n",
    "    \"rest\": 1,\n",
    "    \"motion/left_fist/both_fist\": 2,\n",
    "    \"motion/right_fist/both_feet\": 3\n",
    "    \n",
    "}\n",
    "\n",
    "epochs = mne.Epochs(\n",
    "    raw,\n",
    "    events,\n",
    "    event_id=event_dict,\n",
    "    tmin=-0.2,\n",
    "    tmax=0.5,\n",
    "    preload=True,\n",
    ")"
   ]
  },
  {
   "cell_type": "code",
   "execution_count": 3,
   "metadata": {},
   "outputs": [
    {
     "name": "stdout",
     "output_type": "stream",
     "text": [
      "Dropped 8 epochs: 3, 5, 11, 15, 19, 20, 21, 25\n",
      "['FC5', 'FC3', 'FC1', 'FCz', 'FC2', 'FC4', 'FC6', 'C5', 'C3', 'C1', 'Cz', 'C2', 'C4', 'C6', 'CP5', 'CP3', 'CP1', 'CPz', 'CP2', 'CP4', 'CP6', 'Fp1', 'Fpz', 'Fp2', 'AF7', 'AF3', 'AFz', 'AF4', 'AF8', 'F7', 'F5', 'F3', 'F1', 'Fz', 'F2', 'F4', 'F6', 'F8', 'FT7', 'FT8', 'T7', 'T8', 'T9', 'T10', 'TP7', 'TP8', 'P7', 'P5', 'P3', 'P1', 'Pz', 'P2', 'P4', 'P6', 'P8', 'PO7', 'PO3', 'POz', 'PO4', 'PO8', 'O1', 'Oz', 'O2', 'Iz']\n",
      "['FC5', 'FC3', 'FC1', 'FCz', 'FC2', 'FC4', 'FC6', 'C5', 'C3', 'C1', 'Cz', 'C2', 'C4', 'C6', 'CP5', 'CP3', 'CP1', 'CPz', 'CP2', 'CP4', 'CP6', 'Fp1', 'Fpz', 'Fp2', 'AF7', 'AF3', 'AFz', 'AF4', 'AF8', 'F7', 'F5', 'F3', 'F1', 'Fz', 'F2', 'F4', 'F6', 'F8', 'FT7', 'FT8', 'T7', 'T8', 'T9', 'T10', 'TP7', 'TP8', 'P7', 'P5', 'P3', 'P1', 'Pz', 'P2', 'P4', 'P6', 'P8', 'PO7', 'PO3', 'POz', 'PO4', 'PO8', 'O1', 'Oz', 'O2', 'Iz']\n",
      "Not setting metadata\n",
      "7 matching events found\n",
      "No baseline correction applied\n",
      "0 projection items activated\n",
      "Not setting metadata\n",
      "7 matching events found\n",
      "No baseline correction applied\n",
      "0 projection items activated\n"
     ]
    },
    {
     "ename": "AttributeError",
     "evalue": "'NoneType' object has no attribute '_get_renderer'",
     "output_type": "error",
     "traceback": [
      "\u001b[1;31m---------------------------------------------------------------------------\u001b[0m",
      "\u001b[1;31mAttributeError\u001b[0m                            Traceback (most recent call last)",
      "File \u001b[1;32mD:\\installedSoftware\\anaconda3\\Lib\\site-packages\\IPython\\core\\formatters.py:340\u001b[0m, in \u001b[0;36mBaseFormatter.__call__\u001b[1;34m(self, obj)\u001b[0m\n\u001b[0;32m    338\u001b[0m     \u001b[38;5;28;01mpass\u001b[39;00m\n\u001b[0;32m    339\u001b[0m \u001b[38;5;28;01melse\u001b[39;00m:\n\u001b[1;32m--> 340\u001b[0m     \u001b[38;5;28;01mreturn\u001b[39;00m printer(obj)\n\u001b[0;32m    341\u001b[0m \u001b[38;5;66;03m# Finally look for special method names\u001b[39;00m\n\u001b[0;32m    342\u001b[0m method \u001b[38;5;241m=\u001b[39m get_real_method(obj, \u001b[38;5;28mself\u001b[39m\u001b[38;5;241m.\u001b[39mprint_method)\n",
      "File \u001b[1;32mD:\\installedSoftware\\anaconda3\\Lib\\site-packages\\IPython\\core\\pylabtools.py:152\u001b[0m, in \u001b[0;36mprint_figure\u001b[1;34m(fig, fmt, bbox_inches, base64, **kwargs)\u001b[0m\n\u001b[0;32m    149\u001b[0m     \u001b[38;5;28;01mfrom\u001b[39;00m \u001b[38;5;21;01mmatplotlib\u001b[39;00m\u001b[38;5;21;01m.\u001b[39;00m\u001b[38;5;21;01mbackend_bases\u001b[39;00m \u001b[38;5;28;01mimport\u001b[39;00m FigureCanvasBase\n\u001b[0;32m    150\u001b[0m     FigureCanvasBase(fig)\n\u001b[1;32m--> 152\u001b[0m fig\u001b[38;5;241m.\u001b[39mcanvas\u001b[38;5;241m.\u001b[39mprint_figure(bytes_io, \u001b[38;5;241m*\u001b[39m\u001b[38;5;241m*\u001b[39mkw)\n\u001b[0;32m    153\u001b[0m data \u001b[38;5;241m=\u001b[39m bytes_io\u001b[38;5;241m.\u001b[39mgetvalue()\n\u001b[0;32m    154\u001b[0m \u001b[38;5;28;01mif\u001b[39;00m fmt \u001b[38;5;241m==\u001b[39m \u001b[38;5;124m'\u001b[39m\u001b[38;5;124msvg\u001b[39m\u001b[38;5;124m'\u001b[39m:\n",
      "File \u001b[1;32m~\\AppData\\Roaming\\Python\\Python311\\site-packages\\matplotlib\\backend_bases.py:2180\u001b[0m, in \u001b[0;36mFigureCanvasBase.print_figure\u001b[1;34m(self, filename, dpi, facecolor, edgecolor, orientation, format, bbox_inches, pad_inches, bbox_extra_artists, backend, **kwargs)\u001b[0m\n\u001b[0;32m   2177\u001b[0m         bbox_inches \u001b[38;5;241m=\u001b[39m bbox_inches\u001b[38;5;241m.\u001b[39mpadded(w_pad, h_pad)\n\u001b[0;32m   2179\u001b[0m     \u001b[38;5;66;03m# call adjust_bbox to save only the given area\u001b[39;00m\n\u001b[1;32m-> 2180\u001b[0m     restore_bbox \u001b[38;5;241m=\u001b[39m _tight_bbox\u001b[38;5;241m.\u001b[39madjust_bbox(\n\u001b[0;32m   2181\u001b[0m         \u001b[38;5;28mself\u001b[39m\u001b[38;5;241m.\u001b[39mfigure, bbox_inches, \u001b[38;5;28mself\u001b[39m\u001b[38;5;241m.\u001b[39mfigure\u001b[38;5;241m.\u001b[39mcanvas\u001b[38;5;241m.\u001b[39mfixed_dpi)\n\u001b[0;32m   2183\u001b[0m     _bbox_inches_restore \u001b[38;5;241m=\u001b[39m (bbox_inches, restore_bbox)\n\u001b[0;32m   2184\u001b[0m \u001b[38;5;28;01melse\u001b[39;00m:\n",
      "File \u001b[1;32m~\\AppData\\Roaming\\Python\\Python311\\site-packages\\matplotlib\\_tight_bbox.py:28\u001b[0m, in \u001b[0;36madjust_bbox\u001b[1;34m(fig, bbox_inches, fixed_dpi)\u001b[0m\n\u001b[0;32m     26\u001b[0m locator \u001b[38;5;241m=\u001b[39m ax\u001b[38;5;241m.\u001b[39mget_axes_locator()\n\u001b[0;32m     27\u001b[0m \u001b[38;5;28;01mif\u001b[39;00m locator \u001b[38;5;129;01mis\u001b[39;00m \u001b[38;5;129;01mnot\u001b[39;00m \u001b[38;5;28;01mNone\u001b[39;00m:\n\u001b[1;32m---> 28\u001b[0m     ax\u001b[38;5;241m.\u001b[39mapply_aspect(locator(ax, \u001b[38;5;28;01mNone\u001b[39;00m))\n\u001b[0;32m     29\u001b[0m locator_list\u001b[38;5;241m.\u001b[39mappend(locator)\n\u001b[0;32m     30\u001b[0m current_pos \u001b[38;5;241m=\u001b[39m ax\u001b[38;5;241m.\u001b[39mget_position(original\u001b[38;5;241m=\u001b[39m\u001b[38;5;28;01mFalse\u001b[39;00m)\u001b[38;5;241m.\u001b[39mfrozen()\n",
      "File \u001b[1;32mD:\\installedSoftware\\anaconda3\\Lib\\site-packages\\mpl_toolkits\\axes_grid1\\inset_locator.py:73\u001b[0m, in \u001b[0;36mAnchoredLocatorBase.__call__\u001b[1;34m(self, ax, renderer)\u001b[0m\n\u001b[0;32m     71\u001b[0m \u001b[38;5;28;01mdef\u001b[39;00m \u001b[38;5;21m__call__\u001b[39m(\u001b[38;5;28mself\u001b[39m, ax, renderer):\n\u001b[0;32m     72\u001b[0m     \u001b[38;5;28mself\u001b[39m\u001b[38;5;241m.\u001b[39maxes \u001b[38;5;241m=\u001b[39m ax\n\u001b[1;32m---> 73\u001b[0m     bbox \u001b[38;5;241m=\u001b[39m \u001b[38;5;28mself\u001b[39m\u001b[38;5;241m.\u001b[39mget_window_extent(renderer)\n\u001b[0;32m     74\u001b[0m     px, py \u001b[38;5;241m=\u001b[39m \u001b[38;5;28mself\u001b[39m\u001b[38;5;241m.\u001b[39mget_offset(bbox\u001b[38;5;241m.\u001b[39mwidth, bbox\u001b[38;5;241m.\u001b[39mheight, \u001b[38;5;241m0\u001b[39m, \u001b[38;5;241m0\u001b[39m, renderer)\n\u001b[0;32m     75\u001b[0m     bbox_canvas \u001b[38;5;241m=\u001b[39m Bbox\u001b[38;5;241m.\u001b[39mfrom_bounds(px, py, bbox\u001b[38;5;241m.\u001b[39mwidth, bbox\u001b[38;5;241m.\u001b[39mheight)\n",
      "File \u001b[1;32m~\\AppData\\Roaming\\Python\\Python311\\site-packages\\matplotlib\\offsetbox.py:398\u001b[0m, in \u001b[0;36mOffsetBox.get_window_extent\u001b[1;34m(self, renderer)\u001b[0m\n\u001b[0;32m    395\u001b[0m \u001b[38;5;28;01mdef\u001b[39;00m \u001b[38;5;21mget_window_extent\u001b[39m(\u001b[38;5;28mself\u001b[39m, renderer\u001b[38;5;241m=\u001b[39m\u001b[38;5;28;01mNone\u001b[39;00m):\n\u001b[0;32m    396\u001b[0m     \u001b[38;5;66;03m# docstring inherited\u001b[39;00m\n\u001b[0;32m    397\u001b[0m     \u001b[38;5;28;01mif\u001b[39;00m renderer \u001b[38;5;129;01mis\u001b[39;00m \u001b[38;5;28;01mNone\u001b[39;00m:\n\u001b[1;32m--> 398\u001b[0m         renderer \u001b[38;5;241m=\u001b[39m \u001b[38;5;28mself\u001b[39m\u001b[38;5;241m.\u001b[39mfigure\u001b[38;5;241m.\u001b[39m_get_renderer()\n\u001b[0;32m    399\u001b[0m     bbox \u001b[38;5;241m=\u001b[39m \u001b[38;5;28mself\u001b[39m\u001b[38;5;241m.\u001b[39mget_bbox(renderer)\n\u001b[0;32m    400\u001b[0m     \u001b[38;5;28;01mtry\u001b[39;00m:  \u001b[38;5;66;03m# Some subclasses redefine get_offset to take no args.\u001b[39;00m\n",
      "\u001b[1;31mAttributeError\u001b[0m: 'NoneType' object has no attribute '_get_renderer'"
     ]
    },
    {
     "data": {
      "text/plain": [
       "<Figure size 640x480 with 4 Axes>"
      ]
     },
     "metadata": {},
     "output_type": "display_data"
    },
    {
     "ename": "AttributeError",
     "evalue": "'NoneType' object has no attribute '_get_renderer'",
     "output_type": "error",
     "traceback": [
      "\u001b[1;31m---------------------------------------------------------------------------\u001b[0m",
      "\u001b[1;31mAttributeError\u001b[0m                            Traceback (most recent call last)",
      "File \u001b[1;32mD:\\installedSoftware\\anaconda3\\Lib\\site-packages\\IPython\\core\\formatters.py:340\u001b[0m, in \u001b[0;36mBaseFormatter.__call__\u001b[1;34m(self, obj)\u001b[0m\n\u001b[0;32m    338\u001b[0m     \u001b[38;5;28;01mpass\u001b[39;00m\n\u001b[0;32m    339\u001b[0m \u001b[38;5;28;01melse\u001b[39;00m:\n\u001b[1;32m--> 340\u001b[0m     \u001b[38;5;28;01mreturn\u001b[39;00m printer(obj)\n\u001b[0;32m    341\u001b[0m \u001b[38;5;66;03m# Finally look for special method names\u001b[39;00m\n\u001b[0;32m    342\u001b[0m method \u001b[38;5;241m=\u001b[39m get_real_method(obj, \u001b[38;5;28mself\u001b[39m\u001b[38;5;241m.\u001b[39mprint_method)\n",
      "File \u001b[1;32mD:\\installedSoftware\\anaconda3\\Lib\\site-packages\\IPython\\core\\pylabtools.py:152\u001b[0m, in \u001b[0;36mprint_figure\u001b[1;34m(fig, fmt, bbox_inches, base64, **kwargs)\u001b[0m\n\u001b[0;32m    149\u001b[0m     \u001b[38;5;28;01mfrom\u001b[39;00m \u001b[38;5;21;01mmatplotlib\u001b[39;00m\u001b[38;5;21;01m.\u001b[39;00m\u001b[38;5;21;01mbackend_bases\u001b[39;00m \u001b[38;5;28;01mimport\u001b[39;00m FigureCanvasBase\n\u001b[0;32m    150\u001b[0m     FigureCanvasBase(fig)\n\u001b[1;32m--> 152\u001b[0m fig\u001b[38;5;241m.\u001b[39mcanvas\u001b[38;5;241m.\u001b[39mprint_figure(bytes_io, \u001b[38;5;241m*\u001b[39m\u001b[38;5;241m*\u001b[39mkw)\n\u001b[0;32m    153\u001b[0m data \u001b[38;5;241m=\u001b[39m bytes_io\u001b[38;5;241m.\u001b[39mgetvalue()\n\u001b[0;32m    154\u001b[0m \u001b[38;5;28;01mif\u001b[39;00m fmt \u001b[38;5;241m==\u001b[39m \u001b[38;5;124m'\u001b[39m\u001b[38;5;124msvg\u001b[39m\u001b[38;5;124m'\u001b[39m:\n",
      "File \u001b[1;32m~\\AppData\\Roaming\\Python\\Python311\\site-packages\\matplotlib\\backend_bases.py:2180\u001b[0m, in \u001b[0;36mFigureCanvasBase.print_figure\u001b[1;34m(self, filename, dpi, facecolor, edgecolor, orientation, format, bbox_inches, pad_inches, bbox_extra_artists, backend, **kwargs)\u001b[0m\n\u001b[0;32m   2177\u001b[0m         bbox_inches \u001b[38;5;241m=\u001b[39m bbox_inches\u001b[38;5;241m.\u001b[39mpadded(w_pad, h_pad)\n\u001b[0;32m   2179\u001b[0m     \u001b[38;5;66;03m# call adjust_bbox to save only the given area\u001b[39;00m\n\u001b[1;32m-> 2180\u001b[0m     restore_bbox \u001b[38;5;241m=\u001b[39m _tight_bbox\u001b[38;5;241m.\u001b[39madjust_bbox(\n\u001b[0;32m   2181\u001b[0m         \u001b[38;5;28mself\u001b[39m\u001b[38;5;241m.\u001b[39mfigure, bbox_inches, \u001b[38;5;28mself\u001b[39m\u001b[38;5;241m.\u001b[39mfigure\u001b[38;5;241m.\u001b[39mcanvas\u001b[38;5;241m.\u001b[39mfixed_dpi)\n\u001b[0;32m   2183\u001b[0m     _bbox_inches_restore \u001b[38;5;241m=\u001b[39m (bbox_inches, restore_bbox)\n\u001b[0;32m   2184\u001b[0m \u001b[38;5;28;01melse\u001b[39;00m:\n",
      "File \u001b[1;32m~\\AppData\\Roaming\\Python\\Python311\\site-packages\\matplotlib\\_tight_bbox.py:28\u001b[0m, in \u001b[0;36madjust_bbox\u001b[1;34m(fig, bbox_inches, fixed_dpi)\u001b[0m\n\u001b[0;32m     26\u001b[0m locator \u001b[38;5;241m=\u001b[39m ax\u001b[38;5;241m.\u001b[39mget_axes_locator()\n\u001b[0;32m     27\u001b[0m \u001b[38;5;28;01mif\u001b[39;00m locator \u001b[38;5;129;01mis\u001b[39;00m \u001b[38;5;129;01mnot\u001b[39;00m \u001b[38;5;28;01mNone\u001b[39;00m:\n\u001b[1;32m---> 28\u001b[0m     ax\u001b[38;5;241m.\u001b[39mapply_aspect(locator(ax, \u001b[38;5;28;01mNone\u001b[39;00m))\n\u001b[0;32m     29\u001b[0m locator_list\u001b[38;5;241m.\u001b[39mappend(locator)\n\u001b[0;32m     30\u001b[0m current_pos \u001b[38;5;241m=\u001b[39m ax\u001b[38;5;241m.\u001b[39mget_position(original\u001b[38;5;241m=\u001b[39m\u001b[38;5;28;01mFalse\u001b[39;00m)\u001b[38;5;241m.\u001b[39mfrozen()\n",
      "File \u001b[1;32mD:\\installedSoftware\\anaconda3\\Lib\\site-packages\\mpl_toolkits\\axes_grid1\\inset_locator.py:73\u001b[0m, in \u001b[0;36mAnchoredLocatorBase.__call__\u001b[1;34m(self, ax, renderer)\u001b[0m\n\u001b[0;32m     71\u001b[0m \u001b[38;5;28;01mdef\u001b[39;00m \u001b[38;5;21m__call__\u001b[39m(\u001b[38;5;28mself\u001b[39m, ax, renderer):\n\u001b[0;32m     72\u001b[0m     \u001b[38;5;28mself\u001b[39m\u001b[38;5;241m.\u001b[39maxes \u001b[38;5;241m=\u001b[39m ax\n\u001b[1;32m---> 73\u001b[0m     bbox \u001b[38;5;241m=\u001b[39m \u001b[38;5;28mself\u001b[39m\u001b[38;5;241m.\u001b[39mget_window_extent(renderer)\n\u001b[0;32m     74\u001b[0m     px, py \u001b[38;5;241m=\u001b[39m \u001b[38;5;28mself\u001b[39m\u001b[38;5;241m.\u001b[39mget_offset(bbox\u001b[38;5;241m.\u001b[39mwidth, bbox\u001b[38;5;241m.\u001b[39mheight, \u001b[38;5;241m0\u001b[39m, \u001b[38;5;241m0\u001b[39m, renderer)\n\u001b[0;32m     75\u001b[0m     bbox_canvas \u001b[38;5;241m=\u001b[39m Bbox\u001b[38;5;241m.\u001b[39mfrom_bounds(px, py, bbox\u001b[38;5;241m.\u001b[39mwidth, bbox\u001b[38;5;241m.\u001b[39mheight)\n",
      "File \u001b[1;32m~\\AppData\\Roaming\\Python\\Python311\\site-packages\\matplotlib\\offsetbox.py:398\u001b[0m, in \u001b[0;36mOffsetBox.get_window_extent\u001b[1;34m(self, renderer)\u001b[0m\n\u001b[0;32m    395\u001b[0m \u001b[38;5;28;01mdef\u001b[39;00m \u001b[38;5;21mget_window_extent\u001b[39m(\u001b[38;5;28mself\u001b[39m, renderer\u001b[38;5;241m=\u001b[39m\u001b[38;5;28;01mNone\u001b[39;00m):\n\u001b[0;32m    396\u001b[0m     \u001b[38;5;66;03m# docstring inherited\u001b[39;00m\n\u001b[0;32m    397\u001b[0m     \u001b[38;5;28;01mif\u001b[39;00m renderer \u001b[38;5;129;01mis\u001b[39;00m \u001b[38;5;28;01mNone\u001b[39;00m:\n\u001b[1;32m--> 398\u001b[0m         renderer \u001b[38;5;241m=\u001b[39m \u001b[38;5;28mself\u001b[39m\u001b[38;5;241m.\u001b[39mfigure\u001b[38;5;241m.\u001b[39m_get_renderer()\n\u001b[0;32m    399\u001b[0m     bbox \u001b[38;5;241m=\u001b[39m \u001b[38;5;28mself\u001b[39m\u001b[38;5;241m.\u001b[39mget_bbox(renderer)\n\u001b[0;32m    400\u001b[0m     \u001b[38;5;28;01mtry\u001b[39;00m:  \u001b[38;5;66;03m# Some subclasses redefine get_offset to take no args.\u001b[39;00m\n",
      "\u001b[1;31mAttributeError\u001b[0m: 'NoneType' object has no attribute '_get_renderer'"
     ]
    },
    {
     "data": {
      "text/plain": [
       "<Figure size 640x480 with 4 Axes>"
      ]
     },
     "metadata": {},
     "output_type": "display_data"
    },
    {
     "name": "stdout",
     "output_type": "stream",
     "text": [
      "Not setting metadata\n",
      "7 matching events found\n",
      "No baseline correction applied\n",
      "0 projection items activated\n",
      "Not setting metadata\n",
      "7 matching events found\n",
      "No baseline correction applied\n",
      "0 projection items activated\n"
     ]
    },
    {
     "ename": "AttributeError",
     "evalue": "'NoneType' object has no attribute '_get_renderer'",
     "output_type": "error",
     "traceback": [
      "\u001b[1;31m---------------------------------------------------------------------------\u001b[0m",
      "\u001b[1;31mAttributeError\u001b[0m                            Traceback (most recent call last)",
      "File \u001b[1;32mD:\\installedSoftware\\anaconda3\\Lib\\site-packages\\IPython\\core\\formatters.py:340\u001b[0m, in \u001b[0;36mBaseFormatter.__call__\u001b[1;34m(self, obj)\u001b[0m\n\u001b[0;32m    338\u001b[0m     \u001b[38;5;28;01mpass\u001b[39;00m\n\u001b[0;32m    339\u001b[0m \u001b[38;5;28;01melse\u001b[39;00m:\n\u001b[1;32m--> 340\u001b[0m     \u001b[38;5;28;01mreturn\u001b[39;00m printer(obj)\n\u001b[0;32m    341\u001b[0m \u001b[38;5;66;03m# Finally look for special method names\u001b[39;00m\n\u001b[0;32m    342\u001b[0m method \u001b[38;5;241m=\u001b[39m get_real_method(obj, \u001b[38;5;28mself\u001b[39m\u001b[38;5;241m.\u001b[39mprint_method)\n",
      "File \u001b[1;32mD:\\installedSoftware\\anaconda3\\Lib\\site-packages\\IPython\\core\\pylabtools.py:152\u001b[0m, in \u001b[0;36mprint_figure\u001b[1;34m(fig, fmt, bbox_inches, base64, **kwargs)\u001b[0m\n\u001b[0;32m    149\u001b[0m     \u001b[38;5;28;01mfrom\u001b[39;00m \u001b[38;5;21;01mmatplotlib\u001b[39;00m\u001b[38;5;21;01m.\u001b[39;00m\u001b[38;5;21;01mbackend_bases\u001b[39;00m \u001b[38;5;28;01mimport\u001b[39;00m FigureCanvasBase\n\u001b[0;32m    150\u001b[0m     FigureCanvasBase(fig)\n\u001b[1;32m--> 152\u001b[0m fig\u001b[38;5;241m.\u001b[39mcanvas\u001b[38;5;241m.\u001b[39mprint_figure(bytes_io, \u001b[38;5;241m*\u001b[39m\u001b[38;5;241m*\u001b[39mkw)\n\u001b[0;32m    153\u001b[0m data \u001b[38;5;241m=\u001b[39m bytes_io\u001b[38;5;241m.\u001b[39mgetvalue()\n\u001b[0;32m    154\u001b[0m \u001b[38;5;28;01mif\u001b[39;00m fmt \u001b[38;5;241m==\u001b[39m \u001b[38;5;124m'\u001b[39m\u001b[38;5;124msvg\u001b[39m\u001b[38;5;124m'\u001b[39m:\n",
      "File \u001b[1;32m~\\AppData\\Roaming\\Python\\Python311\\site-packages\\matplotlib\\backend_bases.py:2180\u001b[0m, in \u001b[0;36mFigureCanvasBase.print_figure\u001b[1;34m(self, filename, dpi, facecolor, edgecolor, orientation, format, bbox_inches, pad_inches, bbox_extra_artists, backend, **kwargs)\u001b[0m\n\u001b[0;32m   2177\u001b[0m         bbox_inches \u001b[38;5;241m=\u001b[39m bbox_inches\u001b[38;5;241m.\u001b[39mpadded(w_pad, h_pad)\n\u001b[0;32m   2179\u001b[0m     \u001b[38;5;66;03m# call adjust_bbox to save only the given area\u001b[39;00m\n\u001b[1;32m-> 2180\u001b[0m     restore_bbox \u001b[38;5;241m=\u001b[39m _tight_bbox\u001b[38;5;241m.\u001b[39madjust_bbox(\n\u001b[0;32m   2181\u001b[0m         \u001b[38;5;28mself\u001b[39m\u001b[38;5;241m.\u001b[39mfigure, bbox_inches, \u001b[38;5;28mself\u001b[39m\u001b[38;5;241m.\u001b[39mfigure\u001b[38;5;241m.\u001b[39mcanvas\u001b[38;5;241m.\u001b[39mfixed_dpi)\n\u001b[0;32m   2183\u001b[0m     _bbox_inches_restore \u001b[38;5;241m=\u001b[39m (bbox_inches, restore_bbox)\n\u001b[0;32m   2184\u001b[0m \u001b[38;5;28;01melse\u001b[39;00m:\n",
      "File \u001b[1;32m~\\AppData\\Roaming\\Python\\Python311\\site-packages\\matplotlib\\_tight_bbox.py:28\u001b[0m, in \u001b[0;36madjust_bbox\u001b[1;34m(fig, bbox_inches, fixed_dpi)\u001b[0m\n\u001b[0;32m     26\u001b[0m locator \u001b[38;5;241m=\u001b[39m ax\u001b[38;5;241m.\u001b[39mget_axes_locator()\n\u001b[0;32m     27\u001b[0m \u001b[38;5;28;01mif\u001b[39;00m locator \u001b[38;5;129;01mis\u001b[39;00m \u001b[38;5;129;01mnot\u001b[39;00m \u001b[38;5;28;01mNone\u001b[39;00m:\n\u001b[1;32m---> 28\u001b[0m     ax\u001b[38;5;241m.\u001b[39mapply_aspect(locator(ax, \u001b[38;5;28;01mNone\u001b[39;00m))\n\u001b[0;32m     29\u001b[0m locator_list\u001b[38;5;241m.\u001b[39mappend(locator)\n\u001b[0;32m     30\u001b[0m current_pos \u001b[38;5;241m=\u001b[39m ax\u001b[38;5;241m.\u001b[39mget_position(original\u001b[38;5;241m=\u001b[39m\u001b[38;5;28;01mFalse\u001b[39;00m)\u001b[38;5;241m.\u001b[39mfrozen()\n",
      "File \u001b[1;32mD:\\installedSoftware\\anaconda3\\Lib\\site-packages\\mpl_toolkits\\axes_grid1\\inset_locator.py:73\u001b[0m, in \u001b[0;36mAnchoredLocatorBase.__call__\u001b[1;34m(self, ax, renderer)\u001b[0m\n\u001b[0;32m     71\u001b[0m \u001b[38;5;28;01mdef\u001b[39;00m \u001b[38;5;21m__call__\u001b[39m(\u001b[38;5;28mself\u001b[39m, ax, renderer):\n\u001b[0;32m     72\u001b[0m     \u001b[38;5;28mself\u001b[39m\u001b[38;5;241m.\u001b[39maxes \u001b[38;5;241m=\u001b[39m ax\n\u001b[1;32m---> 73\u001b[0m     bbox \u001b[38;5;241m=\u001b[39m \u001b[38;5;28mself\u001b[39m\u001b[38;5;241m.\u001b[39mget_window_extent(renderer)\n\u001b[0;32m     74\u001b[0m     px, py \u001b[38;5;241m=\u001b[39m \u001b[38;5;28mself\u001b[39m\u001b[38;5;241m.\u001b[39mget_offset(bbox\u001b[38;5;241m.\u001b[39mwidth, bbox\u001b[38;5;241m.\u001b[39mheight, \u001b[38;5;241m0\u001b[39m, \u001b[38;5;241m0\u001b[39m, renderer)\n\u001b[0;32m     75\u001b[0m     bbox_canvas \u001b[38;5;241m=\u001b[39m Bbox\u001b[38;5;241m.\u001b[39mfrom_bounds(px, py, bbox\u001b[38;5;241m.\u001b[39mwidth, bbox\u001b[38;5;241m.\u001b[39mheight)\n",
      "File \u001b[1;32m~\\AppData\\Roaming\\Python\\Python311\\site-packages\\matplotlib\\offsetbox.py:398\u001b[0m, in \u001b[0;36mOffsetBox.get_window_extent\u001b[1;34m(self, renderer)\u001b[0m\n\u001b[0;32m    395\u001b[0m \u001b[38;5;28;01mdef\u001b[39;00m \u001b[38;5;21mget_window_extent\u001b[39m(\u001b[38;5;28mself\u001b[39m, renderer\u001b[38;5;241m=\u001b[39m\u001b[38;5;28;01mNone\u001b[39;00m):\n\u001b[0;32m    396\u001b[0m     \u001b[38;5;66;03m# docstring inherited\u001b[39;00m\n\u001b[0;32m    397\u001b[0m     \u001b[38;5;28;01mif\u001b[39;00m renderer \u001b[38;5;129;01mis\u001b[39;00m \u001b[38;5;28;01mNone\u001b[39;00m:\n\u001b[1;32m--> 398\u001b[0m         renderer \u001b[38;5;241m=\u001b[39m \u001b[38;5;28mself\u001b[39m\u001b[38;5;241m.\u001b[39mfigure\u001b[38;5;241m.\u001b[39m_get_renderer()\n\u001b[0;32m    399\u001b[0m     bbox \u001b[38;5;241m=\u001b[39m \u001b[38;5;28mself\u001b[39m\u001b[38;5;241m.\u001b[39mget_bbox(renderer)\n\u001b[0;32m    400\u001b[0m     \u001b[38;5;28;01mtry\u001b[39;00m:  \u001b[38;5;66;03m# Some subclasses redefine get_offset to take no args.\u001b[39;00m\n",
      "\u001b[1;31mAttributeError\u001b[0m: 'NoneType' object has no attribute '_get_renderer'"
     ]
    },
    {
     "data": {
      "text/plain": [
       "<Figure size 640x480 with 4 Axes>"
      ]
     },
     "metadata": {},
     "output_type": "display_data"
    },
    {
     "ename": "AttributeError",
     "evalue": "'NoneType' object has no attribute '_get_renderer'",
     "output_type": "error",
     "traceback": [
      "\u001b[1;31m---------------------------------------------------------------------------\u001b[0m",
      "\u001b[1;31mAttributeError\u001b[0m                            Traceback (most recent call last)",
      "File \u001b[1;32mD:\\installedSoftware\\anaconda3\\Lib\\site-packages\\IPython\\core\\formatters.py:340\u001b[0m, in \u001b[0;36mBaseFormatter.__call__\u001b[1;34m(self, obj)\u001b[0m\n\u001b[0;32m    338\u001b[0m     \u001b[38;5;28;01mpass\u001b[39;00m\n\u001b[0;32m    339\u001b[0m \u001b[38;5;28;01melse\u001b[39;00m:\n\u001b[1;32m--> 340\u001b[0m     \u001b[38;5;28;01mreturn\u001b[39;00m printer(obj)\n\u001b[0;32m    341\u001b[0m \u001b[38;5;66;03m# Finally look for special method names\u001b[39;00m\n\u001b[0;32m    342\u001b[0m method \u001b[38;5;241m=\u001b[39m get_real_method(obj, \u001b[38;5;28mself\u001b[39m\u001b[38;5;241m.\u001b[39mprint_method)\n",
      "File \u001b[1;32mD:\\installedSoftware\\anaconda3\\Lib\\site-packages\\IPython\\core\\pylabtools.py:152\u001b[0m, in \u001b[0;36mprint_figure\u001b[1;34m(fig, fmt, bbox_inches, base64, **kwargs)\u001b[0m\n\u001b[0;32m    149\u001b[0m     \u001b[38;5;28;01mfrom\u001b[39;00m \u001b[38;5;21;01mmatplotlib\u001b[39;00m\u001b[38;5;21;01m.\u001b[39;00m\u001b[38;5;21;01mbackend_bases\u001b[39;00m \u001b[38;5;28;01mimport\u001b[39;00m FigureCanvasBase\n\u001b[0;32m    150\u001b[0m     FigureCanvasBase(fig)\n\u001b[1;32m--> 152\u001b[0m fig\u001b[38;5;241m.\u001b[39mcanvas\u001b[38;5;241m.\u001b[39mprint_figure(bytes_io, \u001b[38;5;241m*\u001b[39m\u001b[38;5;241m*\u001b[39mkw)\n\u001b[0;32m    153\u001b[0m data \u001b[38;5;241m=\u001b[39m bytes_io\u001b[38;5;241m.\u001b[39mgetvalue()\n\u001b[0;32m    154\u001b[0m \u001b[38;5;28;01mif\u001b[39;00m fmt \u001b[38;5;241m==\u001b[39m \u001b[38;5;124m'\u001b[39m\u001b[38;5;124msvg\u001b[39m\u001b[38;5;124m'\u001b[39m:\n",
      "File \u001b[1;32m~\\AppData\\Roaming\\Python\\Python311\\site-packages\\matplotlib\\backend_bases.py:2180\u001b[0m, in \u001b[0;36mFigureCanvasBase.print_figure\u001b[1;34m(self, filename, dpi, facecolor, edgecolor, orientation, format, bbox_inches, pad_inches, bbox_extra_artists, backend, **kwargs)\u001b[0m\n\u001b[0;32m   2177\u001b[0m         bbox_inches \u001b[38;5;241m=\u001b[39m bbox_inches\u001b[38;5;241m.\u001b[39mpadded(w_pad, h_pad)\n\u001b[0;32m   2179\u001b[0m     \u001b[38;5;66;03m# call adjust_bbox to save only the given area\u001b[39;00m\n\u001b[1;32m-> 2180\u001b[0m     restore_bbox \u001b[38;5;241m=\u001b[39m _tight_bbox\u001b[38;5;241m.\u001b[39madjust_bbox(\n\u001b[0;32m   2181\u001b[0m         \u001b[38;5;28mself\u001b[39m\u001b[38;5;241m.\u001b[39mfigure, bbox_inches, \u001b[38;5;28mself\u001b[39m\u001b[38;5;241m.\u001b[39mfigure\u001b[38;5;241m.\u001b[39mcanvas\u001b[38;5;241m.\u001b[39mfixed_dpi)\n\u001b[0;32m   2183\u001b[0m     _bbox_inches_restore \u001b[38;5;241m=\u001b[39m (bbox_inches, restore_bbox)\n\u001b[0;32m   2184\u001b[0m \u001b[38;5;28;01melse\u001b[39;00m:\n",
      "File \u001b[1;32m~\\AppData\\Roaming\\Python\\Python311\\site-packages\\matplotlib\\_tight_bbox.py:28\u001b[0m, in \u001b[0;36madjust_bbox\u001b[1;34m(fig, bbox_inches, fixed_dpi)\u001b[0m\n\u001b[0;32m     26\u001b[0m locator \u001b[38;5;241m=\u001b[39m ax\u001b[38;5;241m.\u001b[39mget_axes_locator()\n\u001b[0;32m     27\u001b[0m \u001b[38;5;28;01mif\u001b[39;00m locator \u001b[38;5;129;01mis\u001b[39;00m \u001b[38;5;129;01mnot\u001b[39;00m \u001b[38;5;28;01mNone\u001b[39;00m:\n\u001b[1;32m---> 28\u001b[0m     ax\u001b[38;5;241m.\u001b[39mapply_aspect(locator(ax, \u001b[38;5;28;01mNone\u001b[39;00m))\n\u001b[0;32m     29\u001b[0m locator_list\u001b[38;5;241m.\u001b[39mappend(locator)\n\u001b[0;32m     30\u001b[0m current_pos \u001b[38;5;241m=\u001b[39m ax\u001b[38;5;241m.\u001b[39mget_position(original\u001b[38;5;241m=\u001b[39m\u001b[38;5;28;01mFalse\u001b[39;00m)\u001b[38;5;241m.\u001b[39mfrozen()\n",
      "File \u001b[1;32mD:\\installedSoftware\\anaconda3\\Lib\\site-packages\\mpl_toolkits\\axes_grid1\\inset_locator.py:73\u001b[0m, in \u001b[0;36mAnchoredLocatorBase.__call__\u001b[1;34m(self, ax, renderer)\u001b[0m\n\u001b[0;32m     71\u001b[0m \u001b[38;5;28;01mdef\u001b[39;00m \u001b[38;5;21m__call__\u001b[39m(\u001b[38;5;28mself\u001b[39m, ax, renderer):\n\u001b[0;32m     72\u001b[0m     \u001b[38;5;28mself\u001b[39m\u001b[38;5;241m.\u001b[39maxes \u001b[38;5;241m=\u001b[39m ax\n\u001b[1;32m---> 73\u001b[0m     bbox \u001b[38;5;241m=\u001b[39m \u001b[38;5;28mself\u001b[39m\u001b[38;5;241m.\u001b[39mget_window_extent(renderer)\n\u001b[0;32m     74\u001b[0m     px, py \u001b[38;5;241m=\u001b[39m \u001b[38;5;28mself\u001b[39m\u001b[38;5;241m.\u001b[39mget_offset(bbox\u001b[38;5;241m.\u001b[39mwidth, bbox\u001b[38;5;241m.\u001b[39mheight, \u001b[38;5;241m0\u001b[39m, \u001b[38;5;241m0\u001b[39m, renderer)\n\u001b[0;32m     75\u001b[0m     bbox_canvas \u001b[38;5;241m=\u001b[39m Bbox\u001b[38;5;241m.\u001b[39mfrom_bounds(px, py, bbox\u001b[38;5;241m.\u001b[39mwidth, bbox\u001b[38;5;241m.\u001b[39mheight)\n",
      "File \u001b[1;32m~\\AppData\\Roaming\\Python\\Python311\\site-packages\\matplotlib\\offsetbox.py:398\u001b[0m, in \u001b[0;36mOffsetBox.get_window_extent\u001b[1;34m(self, renderer)\u001b[0m\n\u001b[0;32m    395\u001b[0m \u001b[38;5;28;01mdef\u001b[39;00m \u001b[38;5;21mget_window_extent\u001b[39m(\u001b[38;5;28mself\u001b[39m, renderer\u001b[38;5;241m=\u001b[39m\u001b[38;5;28;01mNone\u001b[39;00m):\n\u001b[0;32m    396\u001b[0m     \u001b[38;5;66;03m# docstring inherited\u001b[39;00m\n\u001b[0;32m    397\u001b[0m     \u001b[38;5;28;01mif\u001b[39;00m renderer \u001b[38;5;129;01mis\u001b[39;00m \u001b[38;5;28;01mNone\u001b[39;00m:\n\u001b[1;32m--> 398\u001b[0m         renderer \u001b[38;5;241m=\u001b[39m \u001b[38;5;28mself\u001b[39m\u001b[38;5;241m.\u001b[39mfigure\u001b[38;5;241m.\u001b[39m_get_renderer()\n\u001b[0;32m    399\u001b[0m     bbox \u001b[38;5;241m=\u001b[39m \u001b[38;5;28mself\u001b[39m\u001b[38;5;241m.\u001b[39mget_bbox(renderer)\n\u001b[0;32m    400\u001b[0m     \u001b[38;5;28;01mtry\u001b[39;00m:  \u001b[38;5;66;03m# Some subclasses redefine get_offset to take no args.\u001b[39;00m\n",
      "\u001b[1;31mAttributeError\u001b[0m: 'NoneType' object has no attribute '_get_renderer'"
     ]
    },
    {
     "data": {
      "text/plain": [
       "<Figure size 640x480 with 4 Axes>"
      ]
     },
     "metadata": {},
     "output_type": "display_data"
    },
    {
     "name": "stdout",
     "output_type": "stream",
     "text": [
      "Not setting metadata\n",
      "7 matching events found\n",
      "No baseline correction applied\n",
      "0 projection items activated\n",
      "Not setting metadata\n",
      "7 matching events found\n",
      "No baseline correction applied\n",
      "0 projection items activated\n"
     ]
    },
    {
     "ename": "AttributeError",
     "evalue": "'NoneType' object has no attribute '_get_renderer'",
     "output_type": "error",
     "traceback": [
      "\u001b[1;31m---------------------------------------------------------------------------\u001b[0m",
      "\u001b[1;31mAttributeError\u001b[0m                            Traceback (most recent call last)",
      "File \u001b[1;32mD:\\installedSoftware\\anaconda3\\Lib\\site-packages\\IPython\\core\\formatters.py:340\u001b[0m, in \u001b[0;36mBaseFormatter.__call__\u001b[1;34m(self, obj)\u001b[0m\n\u001b[0;32m    338\u001b[0m     \u001b[38;5;28;01mpass\u001b[39;00m\n\u001b[0;32m    339\u001b[0m \u001b[38;5;28;01melse\u001b[39;00m:\n\u001b[1;32m--> 340\u001b[0m     \u001b[38;5;28;01mreturn\u001b[39;00m printer(obj)\n\u001b[0;32m    341\u001b[0m \u001b[38;5;66;03m# Finally look for special method names\u001b[39;00m\n\u001b[0;32m    342\u001b[0m method \u001b[38;5;241m=\u001b[39m get_real_method(obj, \u001b[38;5;28mself\u001b[39m\u001b[38;5;241m.\u001b[39mprint_method)\n",
      "File \u001b[1;32mD:\\installedSoftware\\anaconda3\\Lib\\site-packages\\IPython\\core\\pylabtools.py:152\u001b[0m, in \u001b[0;36mprint_figure\u001b[1;34m(fig, fmt, bbox_inches, base64, **kwargs)\u001b[0m\n\u001b[0;32m    149\u001b[0m     \u001b[38;5;28;01mfrom\u001b[39;00m \u001b[38;5;21;01mmatplotlib\u001b[39;00m\u001b[38;5;21;01m.\u001b[39;00m\u001b[38;5;21;01mbackend_bases\u001b[39;00m \u001b[38;5;28;01mimport\u001b[39;00m FigureCanvasBase\n\u001b[0;32m    150\u001b[0m     FigureCanvasBase(fig)\n\u001b[1;32m--> 152\u001b[0m fig\u001b[38;5;241m.\u001b[39mcanvas\u001b[38;5;241m.\u001b[39mprint_figure(bytes_io, \u001b[38;5;241m*\u001b[39m\u001b[38;5;241m*\u001b[39mkw)\n\u001b[0;32m    153\u001b[0m data \u001b[38;5;241m=\u001b[39m bytes_io\u001b[38;5;241m.\u001b[39mgetvalue()\n\u001b[0;32m    154\u001b[0m \u001b[38;5;28;01mif\u001b[39;00m fmt \u001b[38;5;241m==\u001b[39m \u001b[38;5;124m'\u001b[39m\u001b[38;5;124msvg\u001b[39m\u001b[38;5;124m'\u001b[39m:\n",
      "File \u001b[1;32m~\\AppData\\Roaming\\Python\\Python311\\site-packages\\matplotlib\\backend_bases.py:2180\u001b[0m, in \u001b[0;36mFigureCanvasBase.print_figure\u001b[1;34m(self, filename, dpi, facecolor, edgecolor, orientation, format, bbox_inches, pad_inches, bbox_extra_artists, backend, **kwargs)\u001b[0m\n\u001b[0;32m   2177\u001b[0m         bbox_inches \u001b[38;5;241m=\u001b[39m bbox_inches\u001b[38;5;241m.\u001b[39mpadded(w_pad, h_pad)\n\u001b[0;32m   2179\u001b[0m     \u001b[38;5;66;03m# call adjust_bbox to save only the given area\u001b[39;00m\n\u001b[1;32m-> 2180\u001b[0m     restore_bbox \u001b[38;5;241m=\u001b[39m _tight_bbox\u001b[38;5;241m.\u001b[39madjust_bbox(\n\u001b[0;32m   2181\u001b[0m         \u001b[38;5;28mself\u001b[39m\u001b[38;5;241m.\u001b[39mfigure, bbox_inches, \u001b[38;5;28mself\u001b[39m\u001b[38;5;241m.\u001b[39mfigure\u001b[38;5;241m.\u001b[39mcanvas\u001b[38;5;241m.\u001b[39mfixed_dpi)\n\u001b[0;32m   2183\u001b[0m     _bbox_inches_restore \u001b[38;5;241m=\u001b[39m (bbox_inches, restore_bbox)\n\u001b[0;32m   2184\u001b[0m \u001b[38;5;28;01melse\u001b[39;00m:\n",
      "File \u001b[1;32m~\\AppData\\Roaming\\Python\\Python311\\site-packages\\matplotlib\\_tight_bbox.py:28\u001b[0m, in \u001b[0;36madjust_bbox\u001b[1;34m(fig, bbox_inches, fixed_dpi)\u001b[0m\n\u001b[0;32m     26\u001b[0m locator \u001b[38;5;241m=\u001b[39m ax\u001b[38;5;241m.\u001b[39mget_axes_locator()\n\u001b[0;32m     27\u001b[0m \u001b[38;5;28;01mif\u001b[39;00m locator \u001b[38;5;129;01mis\u001b[39;00m \u001b[38;5;129;01mnot\u001b[39;00m \u001b[38;5;28;01mNone\u001b[39;00m:\n\u001b[1;32m---> 28\u001b[0m     ax\u001b[38;5;241m.\u001b[39mapply_aspect(locator(ax, \u001b[38;5;28;01mNone\u001b[39;00m))\n\u001b[0;32m     29\u001b[0m locator_list\u001b[38;5;241m.\u001b[39mappend(locator)\n\u001b[0;32m     30\u001b[0m current_pos \u001b[38;5;241m=\u001b[39m ax\u001b[38;5;241m.\u001b[39mget_position(original\u001b[38;5;241m=\u001b[39m\u001b[38;5;28;01mFalse\u001b[39;00m)\u001b[38;5;241m.\u001b[39mfrozen()\n",
      "File \u001b[1;32mD:\\installedSoftware\\anaconda3\\Lib\\site-packages\\mpl_toolkits\\axes_grid1\\inset_locator.py:73\u001b[0m, in \u001b[0;36mAnchoredLocatorBase.__call__\u001b[1;34m(self, ax, renderer)\u001b[0m\n\u001b[0;32m     71\u001b[0m \u001b[38;5;28;01mdef\u001b[39;00m \u001b[38;5;21m__call__\u001b[39m(\u001b[38;5;28mself\u001b[39m, ax, renderer):\n\u001b[0;32m     72\u001b[0m     \u001b[38;5;28mself\u001b[39m\u001b[38;5;241m.\u001b[39maxes \u001b[38;5;241m=\u001b[39m ax\n\u001b[1;32m---> 73\u001b[0m     bbox \u001b[38;5;241m=\u001b[39m \u001b[38;5;28mself\u001b[39m\u001b[38;5;241m.\u001b[39mget_window_extent(renderer)\n\u001b[0;32m     74\u001b[0m     px, py \u001b[38;5;241m=\u001b[39m \u001b[38;5;28mself\u001b[39m\u001b[38;5;241m.\u001b[39mget_offset(bbox\u001b[38;5;241m.\u001b[39mwidth, bbox\u001b[38;5;241m.\u001b[39mheight, \u001b[38;5;241m0\u001b[39m, \u001b[38;5;241m0\u001b[39m, renderer)\n\u001b[0;32m     75\u001b[0m     bbox_canvas \u001b[38;5;241m=\u001b[39m Bbox\u001b[38;5;241m.\u001b[39mfrom_bounds(px, py, bbox\u001b[38;5;241m.\u001b[39mwidth, bbox\u001b[38;5;241m.\u001b[39mheight)\n",
      "File \u001b[1;32m~\\AppData\\Roaming\\Python\\Python311\\site-packages\\matplotlib\\offsetbox.py:398\u001b[0m, in \u001b[0;36mOffsetBox.get_window_extent\u001b[1;34m(self, renderer)\u001b[0m\n\u001b[0;32m    395\u001b[0m \u001b[38;5;28;01mdef\u001b[39;00m \u001b[38;5;21mget_window_extent\u001b[39m(\u001b[38;5;28mself\u001b[39m, renderer\u001b[38;5;241m=\u001b[39m\u001b[38;5;28;01mNone\u001b[39;00m):\n\u001b[0;32m    396\u001b[0m     \u001b[38;5;66;03m# docstring inherited\u001b[39;00m\n\u001b[0;32m    397\u001b[0m     \u001b[38;5;28;01mif\u001b[39;00m renderer \u001b[38;5;129;01mis\u001b[39;00m \u001b[38;5;28;01mNone\u001b[39;00m:\n\u001b[1;32m--> 398\u001b[0m         renderer \u001b[38;5;241m=\u001b[39m \u001b[38;5;28mself\u001b[39m\u001b[38;5;241m.\u001b[39mfigure\u001b[38;5;241m.\u001b[39m_get_renderer()\n\u001b[0;32m    399\u001b[0m     bbox \u001b[38;5;241m=\u001b[39m \u001b[38;5;28mself\u001b[39m\u001b[38;5;241m.\u001b[39mget_bbox(renderer)\n\u001b[0;32m    400\u001b[0m     \u001b[38;5;28;01mtry\u001b[39;00m:  \u001b[38;5;66;03m# Some subclasses redefine get_offset to take no args.\u001b[39;00m\n",
      "\u001b[1;31mAttributeError\u001b[0m: 'NoneType' object has no attribute '_get_renderer'"
     ]
    },
    {
     "data": {
      "text/plain": [
       "<Figure size 640x480 with 4 Axes>"
      ]
     },
     "metadata": {},
     "output_type": "display_data"
    },
    {
     "ename": "AttributeError",
     "evalue": "'NoneType' object has no attribute '_get_renderer'",
     "output_type": "error",
     "traceback": [
      "\u001b[1;31m---------------------------------------------------------------------------\u001b[0m",
      "\u001b[1;31mAttributeError\u001b[0m                            Traceback (most recent call last)",
      "File \u001b[1;32mD:\\installedSoftware\\anaconda3\\Lib\\site-packages\\IPython\\core\\formatters.py:340\u001b[0m, in \u001b[0;36mBaseFormatter.__call__\u001b[1;34m(self, obj)\u001b[0m\n\u001b[0;32m    338\u001b[0m     \u001b[38;5;28;01mpass\u001b[39;00m\n\u001b[0;32m    339\u001b[0m \u001b[38;5;28;01melse\u001b[39;00m:\n\u001b[1;32m--> 340\u001b[0m     \u001b[38;5;28;01mreturn\u001b[39;00m printer(obj)\n\u001b[0;32m    341\u001b[0m \u001b[38;5;66;03m# Finally look for special method names\u001b[39;00m\n\u001b[0;32m    342\u001b[0m method \u001b[38;5;241m=\u001b[39m get_real_method(obj, \u001b[38;5;28mself\u001b[39m\u001b[38;5;241m.\u001b[39mprint_method)\n",
      "File \u001b[1;32mD:\\installedSoftware\\anaconda3\\Lib\\site-packages\\IPython\\core\\pylabtools.py:152\u001b[0m, in \u001b[0;36mprint_figure\u001b[1;34m(fig, fmt, bbox_inches, base64, **kwargs)\u001b[0m\n\u001b[0;32m    149\u001b[0m     \u001b[38;5;28;01mfrom\u001b[39;00m \u001b[38;5;21;01mmatplotlib\u001b[39;00m\u001b[38;5;21;01m.\u001b[39;00m\u001b[38;5;21;01mbackend_bases\u001b[39;00m \u001b[38;5;28;01mimport\u001b[39;00m FigureCanvasBase\n\u001b[0;32m    150\u001b[0m     FigureCanvasBase(fig)\n\u001b[1;32m--> 152\u001b[0m fig\u001b[38;5;241m.\u001b[39mcanvas\u001b[38;5;241m.\u001b[39mprint_figure(bytes_io, \u001b[38;5;241m*\u001b[39m\u001b[38;5;241m*\u001b[39mkw)\n\u001b[0;32m    153\u001b[0m data \u001b[38;5;241m=\u001b[39m bytes_io\u001b[38;5;241m.\u001b[39mgetvalue()\n\u001b[0;32m    154\u001b[0m \u001b[38;5;28;01mif\u001b[39;00m fmt \u001b[38;5;241m==\u001b[39m \u001b[38;5;124m'\u001b[39m\u001b[38;5;124msvg\u001b[39m\u001b[38;5;124m'\u001b[39m:\n",
      "File \u001b[1;32m~\\AppData\\Roaming\\Python\\Python311\\site-packages\\matplotlib\\backend_bases.py:2180\u001b[0m, in \u001b[0;36mFigureCanvasBase.print_figure\u001b[1;34m(self, filename, dpi, facecolor, edgecolor, orientation, format, bbox_inches, pad_inches, bbox_extra_artists, backend, **kwargs)\u001b[0m\n\u001b[0;32m   2177\u001b[0m         bbox_inches \u001b[38;5;241m=\u001b[39m bbox_inches\u001b[38;5;241m.\u001b[39mpadded(w_pad, h_pad)\n\u001b[0;32m   2179\u001b[0m     \u001b[38;5;66;03m# call adjust_bbox to save only the given area\u001b[39;00m\n\u001b[1;32m-> 2180\u001b[0m     restore_bbox \u001b[38;5;241m=\u001b[39m _tight_bbox\u001b[38;5;241m.\u001b[39madjust_bbox(\n\u001b[0;32m   2181\u001b[0m         \u001b[38;5;28mself\u001b[39m\u001b[38;5;241m.\u001b[39mfigure, bbox_inches, \u001b[38;5;28mself\u001b[39m\u001b[38;5;241m.\u001b[39mfigure\u001b[38;5;241m.\u001b[39mcanvas\u001b[38;5;241m.\u001b[39mfixed_dpi)\n\u001b[0;32m   2183\u001b[0m     _bbox_inches_restore \u001b[38;5;241m=\u001b[39m (bbox_inches, restore_bbox)\n\u001b[0;32m   2184\u001b[0m \u001b[38;5;28;01melse\u001b[39;00m:\n",
      "File \u001b[1;32m~\\AppData\\Roaming\\Python\\Python311\\site-packages\\matplotlib\\_tight_bbox.py:28\u001b[0m, in \u001b[0;36madjust_bbox\u001b[1;34m(fig, bbox_inches, fixed_dpi)\u001b[0m\n\u001b[0;32m     26\u001b[0m locator \u001b[38;5;241m=\u001b[39m ax\u001b[38;5;241m.\u001b[39mget_axes_locator()\n\u001b[0;32m     27\u001b[0m \u001b[38;5;28;01mif\u001b[39;00m locator \u001b[38;5;129;01mis\u001b[39;00m \u001b[38;5;129;01mnot\u001b[39;00m \u001b[38;5;28;01mNone\u001b[39;00m:\n\u001b[1;32m---> 28\u001b[0m     ax\u001b[38;5;241m.\u001b[39mapply_aspect(locator(ax, \u001b[38;5;28;01mNone\u001b[39;00m))\n\u001b[0;32m     29\u001b[0m locator_list\u001b[38;5;241m.\u001b[39mappend(locator)\n\u001b[0;32m     30\u001b[0m current_pos \u001b[38;5;241m=\u001b[39m ax\u001b[38;5;241m.\u001b[39mget_position(original\u001b[38;5;241m=\u001b[39m\u001b[38;5;28;01mFalse\u001b[39;00m)\u001b[38;5;241m.\u001b[39mfrozen()\n",
      "File \u001b[1;32mD:\\installedSoftware\\anaconda3\\Lib\\site-packages\\mpl_toolkits\\axes_grid1\\inset_locator.py:73\u001b[0m, in \u001b[0;36mAnchoredLocatorBase.__call__\u001b[1;34m(self, ax, renderer)\u001b[0m\n\u001b[0;32m     71\u001b[0m \u001b[38;5;28;01mdef\u001b[39;00m \u001b[38;5;21m__call__\u001b[39m(\u001b[38;5;28mself\u001b[39m, ax, renderer):\n\u001b[0;32m     72\u001b[0m     \u001b[38;5;28mself\u001b[39m\u001b[38;5;241m.\u001b[39maxes \u001b[38;5;241m=\u001b[39m ax\n\u001b[1;32m---> 73\u001b[0m     bbox \u001b[38;5;241m=\u001b[39m \u001b[38;5;28mself\u001b[39m\u001b[38;5;241m.\u001b[39mget_window_extent(renderer)\n\u001b[0;32m     74\u001b[0m     px, py \u001b[38;5;241m=\u001b[39m \u001b[38;5;28mself\u001b[39m\u001b[38;5;241m.\u001b[39mget_offset(bbox\u001b[38;5;241m.\u001b[39mwidth, bbox\u001b[38;5;241m.\u001b[39mheight, \u001b[38;5;241m0\u001b[39m, \u001b[38;5;241m0\u001b[39m, renderer)\n\u001b[0;32m     75\u001b[0m     bbox_canvas \u001b[38;5;241m=\u001b[39m Bbox\u001b[38;5;241m.\u001b[39mfrom_bounds(px, py, bbox\u001b[38;5;241m.\u001b[39mwidth, bbox\u001b[38;5;241m.\u001b[39mheight)\n",
      "File \u001b[1;32m~\\AppData\\Roaming\\Python\\Python311\\site-packages\\matplotlib\\offsetbox.py:398\u001b[0m, in \u001b[0;36mOffsetBox.get_window_extent\u001b[1;34m(self, renderer)\u001b[0m\n\u001b[0;32m    395\u001b[0m \u001b[38;5;28;01mdef\u001b[39;00m \u001b[38;5;21mget_window_extent\u001b[39m(\u001b[38;5;28mself\u001b[39m, renderer\u001b[38;5;241m=\u001b[39m\u001b[38;5;28;01mNone\u001b[39;00m):\n\u001b[0;32m    396\u001b[0m     \u001b[38;5;66;03m# docstring inherited\u001b[39;00m\n\u001b[0;32m    397\u001b[0m     \u001b[38;5;28;01mif\u001b[39;00m renderer \u001b[38;5;129;01mis\u001b[39;00m \u001b[38;5;28;01mNone\u001b[39;00m:\n\u001b[1;32m--> 398\u001b[0m         renderer \u001b[38;5;241m=\u001b[39m \u001b[38;5;28mself\u001b[39m\u001b[38;5;241m.\u001b[39mfigure\u001b[38;5;241m.\u001b[39m_get_renderer()\n\u001b[0;32m    399\u001b[0m     bbox \u001b[38;5;241m=\u001b[39m \u001b[38;5;28mself\u001b[39m\u001b[38;5;241m.\u001b[39mget_bbox(renderer)\n\u001b[0;32m    400\u001b[0m     \u001b[38;5;28;01mtry\u001b[39;00m:  \u001b[38;5;66;03m# Some subclasses redefine get_offset to take no args.\u001b[39;00m\n",
      "\u001b[1;31mAttributeError\u001b[0m: 'NoneType' object has no attribute '_get_renderer'"
     ]
    },
    {
     "data": {
      "text/plain": [
       "<Figure size 640x480 with 4 Axes>"
      ]
     },
     "metadata": {},
     "output_type": "display_data"
    },
    {
     "data": {
      "text/plain": [
       "[<Figure size 640x480 with 4 Axes>, <Figure size 640x480 with 4 Axes>]"
      ]
     },
     "execution_count": 3,
     "metadata": {},
     "output_type": "execute_result"
    }
   ],
   "source": [
    "conds_we_care_about = [\"rest\", \"motion/left_fist/both_fist\", \"motion/right_fist/both_feet\"]\n",
    "epochs.equalize_event_counts(conds_we_care_about)  # this operates in-place\n",
    "\n",
    "rest_epochs = epochs[\"rest\"]\n",
    "left_both_fist_epochs = epochs[\"motion/left_fist/both_fist\"]\n",
    "right_fist_both_feet_epochs = epochs[\"motion/right_fist/both_feet\"]\n",
    "del raw, epochs  # free up memory\n",
    "\n",
    "print(left_both_fist_epochs.ch_names)\n",
    "print(left_both_fist_epochs.info['ch_names'])\n",
    "# rest_epochs.plot(block = True )\n",
    "\n"
   ]
  },
  {
   "cell_type": "code",
   "execution_count": null,
   "metadata": {},
   "outputs": [],
   "source": []
  }
 ],
 "metadata": {
  "kernelspec": {
   "display_name": "Python 3 (ipykernel)",
   "language": "python",
   "name": "python3"
  },
  "language_info": {
   "codemirror_mode": {
    "name": "ipython",
    "version": 3
   },
   "file_extension": ".py",
   "mimetype": "text/x-python",
   "name": "python",
   "nbconvert_exporter": "python",
   "pygments_lexer": "ipython3",
   "version": "3.11.5"
  }
 },
 "nbformat": 4,
 "nbformat_minor": 2
}
